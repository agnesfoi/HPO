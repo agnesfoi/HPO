{
 "cells": [
  {
   "cell_type": "code",
   "execution_count": 1,
   "metadata": {},
   "outputs": [
    {
     "ename": "ModuleNotFoundError",
     "evalue": "No module named 'NLP_function'",
     "output_type": "error",
     "traceback": [
      "\u001b[1;31m---------------------------------------------------------------------------\u001b[0m",
      "\u001b[1;31mModuleNotFoundError\u001b[0m                       Traceback (most recent call last)",
      "\u001b[1;32m<ipython-input-1-85ffb64428b8>\u001b[0m in \u001b[0;36m<module>\u001b[1;34m\u001b[0m\n\u001b[0;32m      5\u001b[0m \u001b[1;32mfrom\u001b[0m \u001b[0mitertools\u001b[0m \u001b[1;32mimport\u001b[0m \u001b[0mchain\u001b[0m\u001b[1;33m\u001b[0m\u001b[1;33m\u001b[0m\u001b[0m\n\u001b[0;32m      6\u001b[0m \u001b[1;32mfrom\u001b[0m \u001b[0mtime\u001b[0m \u001b[1;32mimport\u001b[0m \u001b[0mstrftime\u001b[0m\u001b[1;33m,\u001b[0m \u001b[0mlocaltime\u001b[0m\u001b[1;33m\u001b[0m\u001b[1;33m\u001b[0m\u001b[0m\n\u001b[1;32m----> 7\u001b[1;33m \u001b[1;32mfrom\u001b[0m \u001b[0mNLP_function\u001b[0m \u001b[1;32mimport\u001b[0m \u001b[1;33m*\u001b[0m\u001b[1;33m\u001b[0m\u001b[1;33m\u001b[0m\u001b[0m\n\u001b[0m",
      "\u001b[1;31mModuleNotFoundError\u001b[0m: No module named 'NLP_function'"
     ]
    }
   ],
   "source": [
    "import jieba\n",
    "import gensim\n",
    "import pickle\n",
    "import os\n",
    "from itertools import chain\n",
    "from time import strftime, localtime\n",
    "from NLP_function import *"
   ]
  },
  {
   "cell_type": "code",
   "execution_count": 53,
   "metadata": {},
   "outputs": [],
   "source": [
    "file = 'C:/Users/Jingz/OneDrive/CarrierGene/2019.07.10-HPO (done)/NLP_for_onedrive/Data_Prepare/Project_pogress_20180509.xlsx'\n",
    "sampid = ['A2023', 'A2042','A2108','A2418','A2172','A4305','A2769',\n",
    "         'A3455','A3450','A3439','A3435','A3444','A4304','A3691','A32940','A2023',\n",
    "         'A0000','A4537','A4222','A4382','A4442','A3581','A4583','A0000']"
   ]
  },
  {
   "cell_type": "code",
   "execution_count": 54,
   "metadata": {},
   "outputs": [],
   "source": [
    "# use original clinical data\n",
    "df = pd.read_excel(file)\n",
    "df = df.iloc[:, np.r_[0, 5, 17, 21:58]]\n",
    "df = df.loc[df['样本编号'].isin(sampid)]\n",
    "\n",
    "# merge title and content\n",
    "for a in range(0,df.shape[1]-1):\n",
    "    if not a in np.r_[0,1,2,3,7:19,22:df.shape[1]]:\n",
    "        i = df.columns[a]\n",
    "        df[i] = df[i].apply(lambda x : str(x) if pd.isnull(x) else i.replace('精阅体格检查\\n/','') + str(x) )\n",
    "        df[i] = df[i].apply(lambda x : x.replace('伊阅',''))  \n",
    "        df[i] = df[i].apply(lambda x : x.replace('nan', ''))  \n",
    "        #df = df[~df[i].isin([''])]        \n",
    "        \n",
    "# change number into chinese character \n",
    "#col = chain(range(3,8),range(9,16), range(29,35)) # for several panel\n",
    "col = range(3,40)                                  # for all\n",
    "for c in col:\n",
    "    df.iloc[:,c] = df.iloc[:,c].apply(lambda x : change_number(x,'cn'))\n",
    "    \n",
    "df = df.drop_duplicates()\n",
    "\n",
    "\n",
    "\n",
    "\n",
    "# transform into list and remove float phenotype\n",
    "df = df.T\n",
    "df.columns = df.iloc[0]\n",
    "res = []\n",
    "for i in range(0,df.shape[1]):\n",
    "    res.append(pd.Series(df.iloc[0:,i]).dropna().drop_duplicates().values) \n",
    "for i in range(0,len(res)):\n",
    "    res[i] = [x for x in res[i] if type(x) != float] \n",
    "\n",
    "    \n",
    "# tokenization\n",
    "for a in range (0,len(res)):\n",
    "    for b in range(0,len(res[a])):\n",
    "        #print(res[a][b])\n",
    "        res[a][b] = re.split('[，]|[,]|[；]|[：]', res[a][b])\n",
    "        #print(res[a][b])      \n",
    "\n",
    "        \n",
    "# extract information\n",
    "txt = pd.DataFrame(columns=['id', 'pheno'])\n",
    "\n",
    "for i in range(0,len(res)):\n",
    "    length = len(list(chain(*res[i][2:len(res[i])])))\n",
    "    tem = pd.DataFrame({'id': pd.DataFrame(res[i][0]).values.repeat(length), 'pheno': list(chain(*res[i][2:len(res[i])])) })\n",
    "    txt = txt.append(tem)\n",
    "txt['pheno'] = txt['pheno'].dropna()\n",
    "txt = txt.drop_duplicates()\n",
    "txt = txt.reset_index(drop=True)\n",
    "\n",
    "\n",
    "# clean txt (remove non sense doc)\n",
    "searchfor = [\"正常\",'零次']\n",
    "\n",
    "txt['pheno'] = txt['pheno'].apply(lambda x : clean_text(x, lan='cn'))\n",
    "txt['pheno'] = txt['pheno'].dropna()\n",
    "txt= txt[txt.pheno!='nan']\n",
    "\n",
    "txt = txt[~txt.pheno.str.contains('|'.join(searchfor), na=False)] # remove str contraing specific str\n",
    "\n",
    "txt = txt[~txt.pheno.isin(['', '.', '重点关注','无','既往病史','全外扫描','未查','B超','其他遗传学检查结果','其他检查','要求全外扫描'])] \n",
    "txt['pheno'] = txt['pheno'].apply(lambda x: x.replace('45,X','45_X'))\n",
    "\n",
    "txt = txt.reset_index(drop=True)\n",
    "\n",
    "\n",
    "# jieba cut\n",
    "txt['pheno_cut'] = txt['pheno'].apply(lambda txt: list(jieba.cut(txt))) #调用结巴分词"
   ]
  },
  {
   "cell_type": "code",
   "execution_count": 56,
   "metadata": {},
   "outputs": [],
   "source": [
    "txt.to_csv('clinical_cut_'+ strftime(\"%Y%m%d_%H%M\", localtime()) +'.csv', header=True, index=False, encoding=\"ANSI\")"
   ]
  }
 ],
 "metadata": {
  "kernelspec": {
   "display_name": "Python 3",
   "language": "python",
   "name": "python3"
  },
  "language_info": {
   "codemirror_mode": {
    "name": "ipython",
    "version": 3
   },
   "file_extension": ".py",
   "mimetype": "text/x-python",
   "name": "python",
   "nbconvert_exporter": "python",
   "pygments_lexer": "ipython3",
   "version": "3.8.5"
  }
 },
 "nbformat": 4,
 "nbformat_minor": 4
}
