{
 "cells": [
  {
   "cell_type": "markdown",
   "metadata": {},
   "source": [
 ]
  },
  {
   "cell_type": "markdown",
   "metadata": {},
   "source": [
    "#### package install"
   ]
  },
  {
   "cell_type": "code",
   "execution_count": null,
   "metadata": {},
   "outputs": [],
   "source": [
    "conda install -c anaconda scikit-learn\n",
    "conda install -c conda-forge jieba\n",
    "conda install -c conda-forge tensorflow\n",
    "\n",
    "conda install -c conda-forge keras\n",
    "conda install -c anaconda gensim\n",
    "\n",
    "pip install imblearn\n",
    "\n",
    "\n",
    "import nltk\n",
    "import ssl\n",
    "\n",
    "try:\n",
    "    _create_unverified_https_context = ssl._create_unverified_context\n",
    "except AttributeError:\n",
    "    pass\n",
    "else:\n",
    "    ssl._create_default_https_context = _create_unverified_https_context\n",
    "\n",
    "nltk.download()"
   ]
  },
  {
   "cell_type": "markdown",
   "metadata": {},
   "source": [
    "#### import packages"
   ]
  },
  {
   "cell_type": "code",
   "execution_count": 78,
   "metadata": {},
   "outputs": [],
   "source": [
    "import pandas as pd\n",
    "import numpy as np\n",
    "\n",
    "import os\n",
    "import json\n",
    "os.chdir('C://Users/Jingz/OneDrive/CarrierGene/2019.07.10-HPO (en cours)/NLP_for_onedrive')\n",
    "from NLP_function import *\n",
    "os.chdir('C://Users/Jingz/OneDrive/CarrierGene/2019.07.10-HPO (en cours)/NLP_for_onedrive/Data_Prepare')\n",
    "#%autosave 60"
   ]
  },
  {
   "cell_type": "markdown",
   "metadata": {},
   "source": [
    "### pass argv"
   ]
  },
  {
   "cell_type": "code",
   "execution_count": 2,
   "metadata": {
    "tags": [
     "parameters"
    ]
   },
   "outputs": [],
   "source": [
    "#file   = sys.argv[1]\n",
    "#sampid = sys.argv[2]\n",
    "file = 'C:/Users/Jingz/OneDrive/CarrierGene/2019.07.10-HPO (en cours)/NLP_for_onedrive/Data_Prepare/Project_pogress_20180509.xlsx'"
   ]
  },
  {
   "cell_type": "markdown",
   "metadata": {},
   "source": [
    "#### Data import _ use original clinical data _ for Unsup_Doc2Vec"
   ]
  },
  {
   "cell_type": "code",
   "execution_count": 3,
   "metadata": {},
   "outputs": [],
   "source": [
    "sampid = ['A2001','A2002','A2003']\n",
    "\n",
    "# use original clinical data\n",
    "df = pd.read_excel(file)\n",
    "df = df.iloc[:, np.r_[0, 5, 17, 21:58]]\n",
    "df = df.loc[df['样本编号'].isin(sampid)]\n",
    "\n",
    "# merge title and content\n",
    "for a in range(0,df.shape[1]-1):\n",
    "    if not a in np.r_[0,1,2,3,7:19,22:df.shape[1]]:\n",
    "        i = df.columns[a]\n",
    "        df[i] = df[i].apply(lambda x : str(x) if pd.isnull(x) else i.replace('精阅体格检查\\n/','') + str(x) )\n",
    "        df[i] = df[i].apply(lambda x : x.replace('伊阅',''))  \n",
    "        df[i] = df[i].apply(lambda x : x.replace('nan', ''))  \n",
    "        #df = df[~df[i].isin([''])]\n",
    "df.head()\n",
    "\n",
    "# transform into list\n",
    "df = df.T\n",
    "df.columns = df.iloc[0]\n",
    "res = []\n",
    "for i in range(0,df.shape[1]):\n",
    "    res.append(pd.Series(df.iloc[0:,i]).dropna().drop_duplicates().values)\n",
    "    \n",
    "# save and export to numpy array\n",
    "np.save('cli_tokenizing_res.npy', np.array(res))"
   ]
  },
  {
   "cell_type": "markdown",
   "metadata": {},
   "source": [
    "#### Data import _ training data _ for CN_BOW"
   ]
  },
  {
   "cell_type": "code",
   "execution_count": 10,
   "metadata": {},
   "outputs": [],
   "source": [
    "df = pd.read_excel('C:/Users/Jingz/OneDrive/CarrierGene/2019.07.10-HPO (en cours)/NLP_for_onedrive/HPO-20200413.xlsx')\n",
    "df = df.fillna('无')\n",
    "df['x_cn'] = df['x_cn'].apply(clean_text, lan = 'cn')"
   ]
  },
  {
   "cell_type": "code",
   "execution_count": 8,
   "metadata": {},
   "outputs": [],
   "source": [
    "# remove str at the begining/end of str\n",
    "for i in df:\n",
    "    df[i] = df[i].apply(lambda x: re.sub('\\.$', '', x)) \n",
    "    df[i] = df[i].apply(lambda x: re.sub('\\;$', '', x))\n",
    "    df[i] = df[i].apply(lambda x: re.sub('^\\;', '', x))\n",
    "\n",
    "df['y_cn'] = df['y_cn'].replace('正常', '无') # change level '正常' to '无'\n",
    "df['HP'] = df['HP'].replace('正常', '无')     # change level '正常' to '无'\n",
    "df = df.drop_duplicates(subset='x_cn')       # reset_index(drop=True)  # 4476 unique rows\n",
    "\n",
    "df.to_excel('C:/Users/Jingz/OneDrive/CarrierGene/2019.07.10-HPO (en cours)/NLP_for_onedrive/cli.tokenizing_all_hpo.xlsx', header=True, index=True) \n",
    "df.head()"
   ]
  },
  {
   "cell_type": "code",
   "execution_count": 55,
   "metadata": {},
   "outputs": [
    {
     "data": {
      "text/plain": [
       "639                          复发性自然流产\n",
       "640                          复发性自然流产\n",
       "641                          复发性自然流产\n",
       "642                          复发性自然流产\n",
       "643                          复发性自然流产\n",
       "                    ...             \n",
       "4519           自然流产;胚胎发病;严重的胎儿宫内发育迟缓\n",
       "4520           自然流产;胚胎发病;严重的胎儿宫内发育迟缓\n",
       "4521           自然流产;胚胎发病;严重的胎儿宫内发育迟缓\n",
       "4522    自然流产;胚胎发病;严重的胎儿宫内发育迟缓;减数分裂异常\n",
       "4523                自然流产;严重的胎儿宫内发育迟缓\n",
       "Name: y_cn, Length: 138, dtype: object"
      ]
     },
     "execution_count": 55,
     "metadata": {},
     "output_type": "execute_result"
    }
   ],
   "source": [
    "# change several class (tem training data, will delete after reviewed data)\n",
    "searchfor = [\"自然流产\"]\n",
    "df[df.y_cn.str.contains('|'.join(searchfor))]['y_cn']"
   ]
  },
  {
   "cell_type": "code",
   "execution_count": 64,
   "metadata": {},
   "outputs": [
    {
     "data": {
      "text/html": [
       "<div>\n",
       "<style scoped>\n",
       "    .dataframe tbody tr th:only-of-type {\n",
       "        vertical-align: middle;\n",
       "    }\n",
       "\n",
       "    .dataframe tbody tr th {\n",
       "        vertical-align: top;\n",
       "    }\n",
       "\n",
       "    .dataframe thead th {\n",
       "        text-align: right;\n",
       "    }\n",
       "</style>\n",
       "<table border=\"1\" class=\"dataframe\">\n",
       "  <thead>\n",
       "    <tr style=\"text-align: right;\">\n",
       "      <th></th>\n",
       "      <th>Unnamed: 0</th>\n",
       "      <th>x_cn</th>\n",
       "      <th>y_cn</th>\n",
       "      <th>hp</th>\n",
       "      <th>comment</th>\n",
       "      <th>confuse</th>\n",
       "      <th>tokenization</th>\n",
       "    </tr>\n",
       "  </thead>\n",
       "  <tbody>\n",
       "    <tr>\n",
       "      <th>639</th>\n",
       "      <td>4015</td>\n",
       "      <td>0-0-3-0</td>\n",
       "      <td>复发性自然流产</td>\n",
       "      <td>HP:0200067</td>\n",
       "      <td>无</td>\n",
       "      <td>NaN</td>\n",
       "      <td>NaN</td>\n",
       "    </tr>\n",
       "    <tr>\n",
       "      <th>640</th>\n",
       "      <td>397</td>\n",
       "      <td>反复流产</td>\n",
       "      <td>复发性自然流产</td>\n",
       "      <td>HP:0200067</td>\n",
       "      <td>无</td>\n",
       "      <td>NaN</td>\n",
       "      <td>NaN</td>\n",
       "    </tr>\n",
       "    <tr>\n",
       "      <th>641</th>\n",
       "      <td>1940</td>\n",
       "      <td>反复流产相关 反复生化相关基因检查</td>\n",
       "      <td>复发性自然流产</td>\n",
       "      <td>HP:0200067</td>\n",
       "      <td>无</td>\n",
       "      <td>NaN</td>\n",
       "      <td>NaN</td>\n",
       "    </tr>\n",
       "    <tr>\n",
       "      <th>642</th>\n",
       "      <td>2917</td>\n",
       "      <td>反复流产相关反复生化相关基因检查+</td>\n",
       "      <td>复发性自然流产</td>\n",
       "      <td>HP:0200067</td>\n",
       "      <td>无</td>\n",
       "      <td>NaN</td>\n",
       "      <td>NaN</td>\n",
       "    </tr>\n",
       "    <tr>\n",
       "      <th>643</th>\n",
       "      <td>398</td>\n",
       "      <td>反复胚胎种植失败</td>\n",
       "      <td>复发性自然流产</td>\n",
       "      <td>HP:0200067</td>\n",
       "      <td>无</td>\n",
       "      <td>NaN</td>\n",
       "      <td>NaN</td>\n",
       "    </tr>\n",
       "    <tr>\n",
       "      <th>...</th>\n",
       "      <td>...</td>\n",
       "      <td>...</td>\n",
       "      <td>...</td>\n",
       "      <td>...</td>\n",
       "      <td>...</td>\n",
       "      <td>...</td>\n",
       "      <td>...</td>\n",
       "    </tr>\n",
       "    <tr>\n",
       "      <th>4519</th>\n",
       "      <td>4411</td>\n",
       "      <td>胎停清宫</td>\n",
       "      <td>自然流产;胚胎发病;严重的胎儿宫内发育迟缓</td>\n",
       "      <td>HP:0005268;HP:0011460;HP:0008846</td>\n",
       "      <td>无</td>\n",
       "      <td>NaN</td>\n",
       "      <td>NaN</td>\n",
       "    </tr>\n",
       "    <tr>\n",
       "      <th>4520</th>\n",
       "      <td>5273</td>\n",
       "      <td>体外受精-冷冻胚胎移植后胎停</td>\n",
       "      <td>自然流产;胚胎发病;严重的胎儿宫内发育迟缓</td>\n",
       "      <td>HP:0005268;HP:0011460;HP:0008846</td>\n",
       "      <td>无</td>\n",
       "      <td>NaN</td>\n",
       "      <td>NaN</td>\n",
       "    </tr>\n",
       "    <tr>\n",
       "      <th>4521</th>\n",
       "      <td>4199</td>\n",
       "      <td>一次孕8周胎停</td>\n",
       "      <td>自然流产;胚胎发病;严重的胎儿宫内发育迟缓</td>\n",
       "      <td>HP:0005268;HP:0011460;HP:0008846</td>\n",
       "      <td>无</td>\n",
       "      <td>NaN</td>\n",
       "      <td>NaN</td>\n",
       "    </tr>\n",
       "    <tr>\n",
       "      <th>4522</th>\n",
       "      <td>4222</td>\n",
       "      <td>2013年结婚 2015年孕1月胎停 流产手术2018年9月第一周期长方案 体外受精 成熟卵...</td>\n",
       "      <td>自然流产;胚胎发病;严重的胎儿宫内发育迟缓;减数分裂异常</td>\n",
       "      <td>HP:0005268;HP:0011460;HP:0008846;HP:0031515</td>\n",
       "      <td>无</td>\n",
       "      <td>NaN</td>\n",
       "      <td>NaN</td>\n",
       "    </tr>\n",
       "    <tr>\n",
       "      <th>4523</th>\n",
       "      <td>3092</td>\n",
       "      <td>自然受孕一次 胎停流产</td>\n",
       "      <td>自然流产;严重的胎儿宫内发育迟缓</td>\n",
       "      <td>HP:0005268;HP:0008846</td>\n",
       "      <td>无</td>\n",
       "      <td>1.0</td>\n",
       "      <td>NaN</td>\n",
       "    </tr>\n",
       "  </tbody>\n",
       "</table>\n",
       "<p>138 rows × 7 columns</p>\n",
       "</div>"
      ],
      "text/plain": [
       "      Unnamed: 0                                               x_cn  \\\n",
       "639         4015                                            0-0-3-0   \n",
       "640          397                                               反复流产   \n",
       "641         1940                                  反复流产相关 反复生化相关基因检查   \n",
       "642         2917                                  反复流产相关反复生化相关基因检查+   \n",
       "643          398                                           反复胚胎种植失败   \n",
       "...          ...                                                ...   \n",
       "4519        4411                                               胎停清宫   \n",
       "4520        5273                                     体外受精-冷冻胚胎移植后胎停   \n",
       "4521        4199                                            一次孕8周胎停   \n",
       "4522        4222  2013年结婚 2015年孕1月胎停 流产手术2018年9月第一周期长方案 体外受精 成熟卵...   \n",
       "4523        3092                                        自然受孕一次 胎停流产   \n",
       "\n",
       "                              y_cn  \\\n",
       "639                        复发性自然流产   \n",
       "640                        复发性自然流产   \n",
       "641                        复发性自然流产   \n",
       "642                        复发性自然流产   \n",
       "643                        复发性自然流产   \n",
       "...                            ...   \n",
       "4519         自然流产;胚胎发病;严重的胎儿宫内发育迟缓   \n",
       "4520         自然流产;胚胎发病;严重的胎儿宫内发育迟缓   \n",
       "4521         自然流产;胚胎发病;严重的胎儿宫内发育迟缓   \n",
       "4522  自然流产;胚胎发病;严重的胎儿宫内发育迟缓;减数分裂异常   \n",
       "4523              自然流产;严重的胎儿宫内发育迟缓   \n",
       "\n",
       "                                               hp comment  confuse  \\\n",
       "639                                    HP:0200067       无      NaN   \n",
       "640                                    HP:0200067       无      NaN   \n",
       "641                                    HP:0200067       无      NaN   \n",
       "642                                    HP:0200067       无      NaN   \n",
       "643                                    HP:0200067       无      NaN   \n",
       "...                                           ...     ...      ...   \n",
       "4519             HP:0005268;HP:0011460;HP:0008846       无      NaN   \n",
       "4520             HP:0005268;HP:0011460;HP:0008846       无      NaN   \n",
       "4521             HP:0005268;HP:0011460;HP:0008846       无      NaN   \n",
       "4522  HP:0005268;HP:0011460;HP:0008846;HP:0031515       无      NaN   \n",
       "4523                        HP:0005268;HP:0008846       无      1.0   \n",
       "\n",
       "     tokenization  \n",
       "639           NaN  \n",
       "640           NaN  \n",
       "641           NaN  \n",
       "642           NaN  \n",
       "643           NaN  \n",
       "...           ...  \n",
       "4519          NaN  \n",
       "4520          NaN  \n",
       "4521          NaN  \n",
       "4522          NaN  \n",
       "4523          NaN  \n",
       "\n",
       "[138 rows x 7 columns]"
      ]
     },
     "execution_count": 64,
     "metadata": {},
     "output_type": "execute_result"
    }
   ],
   "source": [
    "df[df.y_cn.str.contains('|'.join(searchfor))]"
   ]
  },
  {
   "cell_type": "code",
   "execution_count": null,
   "metadata": {},
   "outputs": [],
   "source": [
    "# translation via Translator\n",
    "from translate import Translator\n",
    "translator = Translator(from_lang='zh', to_lang='en')\n",
    "df['x_en'] = df['HP']\n",
    "for p in range(2,len(df)):\n",
    "    df['x_en'][p] = translator.translate(df['x_cn'][p])"
   ]
  },
  {
   "cell_type": "markdown",
   "metadata": {},
   "source": [
    "#### Data tranform _ supervised hpo labels"
   ]
  },
  {
   "cell_type": "code",
   "execution_count": 15,
   "metadata": {},
   "outputs": [],
   "source": [
    "lables_hpo =  pd.read_csv('C:/Users/Jingz/OneDrive/CarrierGene/2019.07.10-HPO (done)/NLP_for_onedrive/Data_Prepare/Training_data_final.csv',encoding='ANSI')\n",
    "\n",
    "lables_hpo = pd.DataFrame({'lable': lables_hpo['y_cn'], 'id': lables_hpo['HP']})\n",
    "lables_hpo = lables_hpo.drop_duplicates().reset_index(drop=True)\n",
    "lables_hpo['lable1'] = lables_hpo['lable'].apply(lambda x : re.compile('[/; ]').sub('', x))\n",
    "\n",
    "lables_hpo.to_csv('C://Users/Jingz/OneDrive/CarrierGene/2019.07.10-HPO (en cours)/NLP_for_onedrive/In_Database_cn/lables_hpo.csv', header=True, index=False, encoding=\"ANSI\")"
   ]
  },
  {
   "cell_type": "markdown",
   "metadata": {},
   "source": [
    "#### Data import _ abbreviation"
   ]
  },
  {
   "cell_type": "markdown",
   "metadata": {},
   "source": [
    "### import abbreviation\n",
    "\n",
    "ab = pd.read_excel('C:/Users/Jingz/OneDrive/CarrierGene/2019.07.10-HPO (en cours)/NLP_for_onedrive/abbreviation.xlsx')\n",
    "ab['leng'] = ab['缩写'].apply(lambda x : len(x))\n",
    "ab = ab.sort_values(by='leng', ascending=False)\n",
    "ab = ab[ab.Tag != 'confuse'].sort_values(by='leng', ascending=False)\n",
    "ab = ab.drop_duplicates(subset='缩写').reset_index(drop=True)\n",
    "ab.columns = ['abb','zh','en','tag','leng']\n",
    "ab.to_excel('C:/Users/Jingz/OneDrive/CarrierGene/2019.07.10-HPO (en cours)/NLP_for_onedrive/abbreviation_modified.xlsx', header=True, index=False)"
   ]
  },
  {
   "cell_type": "markdown",
   "metadata": {},
   "source": [
    "#### Data import _ use other results"
   ]
  },
  {
   "cell_type": "code",
   "execution_count": null,
   "metadata": {},
   "outputs": [],
   "source": [
    "# use postive results data\n",
    "df = pd.read_csv('clinical_informations_utf8.csv')\n",
    "df['Clinical_Information.x'] = df['Clinical_Information.x'].str.replace(\"。\", \". \")\n",
    "df = df.dropna()\n",
    "df.head(10)"
   ]
  },
  {
   "cell_type": "code",
   "execution_count": 3,
   "metadata": {},
   "outputs": [
    {
     "data": {
      "text/html": [
       "<div>\n",
       "<style scoped>\n",
       "    .dataframe tbody tr th:only-of-type {\n",
       "        vertical-align: middle;\n",
       "    }\n",
       "\n",
       "    .dataframe tbody tr th {\n",
       "        vertical-align: top;\n",
       "    }\n",
       "\n",
       "    .dataframe thead th {\n",
       "        text-align: right;\n",
       "    }\n",
       "</style>\n",
       "<table border=\"1\" class=\"dataframe\">\n",
       "  <thead>\n",
       "    <tr style=\"text-align: right;\">\n",
       "      <th></th>\n",
       "      <th>sample</th>\n",
       "      <th>Clinical_Information.x</th>\n",
       "      <th>Panel_type</th>\n",
       "    </tr>\n",
       "  </thead>\n",
       "  <tbody>\n",
       "    <tr>\n",
       "      <th>0</th>\n",
       "      <td>Lib914</td>\n",
       "      <td>无精症。\\n第二性征正常。睾丸体积异常，8 mL。输精管正常。精子总数0百万。\\n</td>\n",
       "      <td>精阅</td>\n",
       "    </tr>\n",
       "    <tr>\n",
       "      <th>1</th>\n",
       "      <td>Lib921</td>\n",
       "      <td>不育。\\n第二性征正常。睾丸体积正常。精子总数13百万，正常形态率2%。\\n</td>\n",
       "      <td>精阅</td>\n",
       "    </tr>\n",
       "    <tr>\n",
       "      <th>2</th>\n",
       "      <td>Lib932</td>\n",
       "      <td>第二性征正常。睾丸体积正常，17 mL。精子总数0百万。近亲结婚 (父母) , 内脏反位。</td>\n",
       "      <td>精阅</td>\n",
       "    </tr>\n",
       "    <tr>\n",
       "      <th>3</th>\n",
       "      <td>Lib957</td>\n",
       "      <td>第二性征正常。睾丸体积异常，4 mL。精子总数0百万。</td>\n",
       "      <td>精阅</td>\n",
       "    </tr>\n",
       "    <tr>\n",
       "      <th>4</th>\n",
       "      <td>Lib959</td>\n",
       "      <td>第二性征正常。睾丸体积正常，12 mL。输精管正常。精子总数0百万。染色体[46,XY]，A...</td>\n",
       "      <td>精阅</td>\n",
       "    </tr>\n",
       "  </tbody>\n",
       "</table>\n",
       "</div>"
      ],
      "text/plain": [
       "   sample                             Clinical_Information.x Panel_type\n",
       "0  Lib914          无精症。\\n第二性征正常。睾丸体积异常，8 mL。输精管正常。精子总数0百万。\\n         精阅\n",
       "1  Lib921             不育。\\n第二性征正常。睾丸体积正常。精子总数13百万，正常形态率2%。\\n         精阅\n",
       "2  Lib932      第二性征正常。睾丸体积正常，17 mL。精子总数0百万。近亲结婚 (父母) , 内脏反位。         精阅\n",
       "3  Lib957                        第二性征正常。睾丸体积异常，4 mL。精子总数0百万。         精阅\n",
       "4  Lib959  第二性征正常。睾丸体积正常，12 mL。输精管正常。精子总数0百万。染色体[46,XY]，A...         精阅"
      ]
     },
     "execution_count": 3,
     "metadata": {},
     "output_type": "execute_result"
    }
   ],
   "source": [
    "# use project pogres data\n",
    "df = pd.read_excel('报告阳性结果汇总20200303.xlsx')\n",
    "df = pd.DataFrame(df,columns=['样本编号','临床信息','项目类型'])\n",
    "df.columns = ['sample','Clinical_Information.x','Panel_type']\n",
    "df.head()"
   ]
  },
  {
   "cell_type": "code",
   "execution_count": 4,
   "metadata": {},
   "outputs": [],
   "source": [
    "df['Clinical_Information.x'] = df['Clinical_Information.x'].str.replace('。', '. ')\n",
    "df['Clinical_Information.x'] = df['Clinical_Information.x'].str.replace('；', '. ')\n",
    "df['Clinical_Information.x'] = df['Clinical_Information.x'].str.replace('，', ',')\n",
    "df.head()\n",
    "df = df.dropna()\n",
    "#print(df.Panel_type.value_counts())"
   ]
  },
  {
   "cell_type": "markdown",
   "metadata": {},
   "source": [
    "#### Data transform used for Hpo_group_data (multi_labled)"
   ]
  },
  {
   "cell_type": "code",
   "execution_count": 64,
   "metadata": {},
   "outputs": [],
   "source": [
    "Df = pd.read_csv('C:/Users/Jingz/OneDrive/CarrierGene/2019.07.10-HPO (en cours)/hpo_import_python/Hpo_group_data/hpo_class_subclass_135_2_unmerged.csv')\n",
    "Df = Df.replace(np.nan, '', regex=True)\n",
    "Df['syn_cn'] = Df['syn_cn'].str.replace(\"No synonyms found for this term.\", \"\")\n",
    "Df['des_cn'][0]\n",
    "Df['des_cn'] = Df['des_cn'].apply(lambda x: '' if 'No synonyms ' in x else x)\n",
    "\n",
    "# remove strange strings\n",
    "Df['synonyms'] = Df['synonyms'].apply(lambda x : x.replace('No synonyms found for this term.',''))\n",
    "searchfor = [\"No synonyms found for this term\",'找不到此术语的同义', '']\n",
    "length = len(Df[Df.description.str.contains('|'.join(searchfor), na=False)]['description'])\n",
    "Df[Df.description.str.contains('|'.join(searchfor), na=False)]['description'] = pd.Series(['']*length)"
   ]
  },
  {
   "cell_type": "code",
   "execution_count": 65,
   "metadata": {},
   "outputs": [],
   "source": [
    "### step_2 expose synonyms and description\n",
    "\n",
    "df1 = pd.DataFrame({'id'      :   Df['id'].append([Df['id']]*2),\n",
    "                   'merge'    :   Df['name'].append(Df['synonyms']).append(Df['description']), \n",
    "                   'subclass' :   Df['subclass'].append([Df['subclass']]*2)\n",
    "                   }).reset_index(drop=True)\n",
    "\n",
    "# df1['merge_new'] = df1['merge'].apply(lambda x : clean_sentence(x, lan='en', med_code=True, abbreviation=False, width=True, symbol=False, character=True))\n",
    "df1['merge_new'] = df1['merge'].apply(lambda x : clean_text(x, lan='en'))\n",
    "\n",
    "\n",
    "\n",
    "df1 = df1.drop_duplicates().reset_index()\n",
    "df1['index'] = df1.index\n",
    "\n",
    "\n",
    "# split synonyms into multiple rows\n",
    "\n",
    "df2 = pd.DataFrame({'merge_new_split':df1['merge_new'].str.split(',').explode()})\n",
    "df2['index'] = df2.index\n",
    "df2\n",
    "\n",
    "\n",
    "\n",
    "# merge split data with original data\n",
    "\n",
    "df = pd.merge(df1, df2, on='index', how='outer')\n",
    "df = df[['id','merge_new_split','subclass']]\n",
    "df.rename(columns =  {'merge_new_split': 'merge'}, inplace=True)\n",
    "df = df.drop_duplicates().reset_index(drop=True)\n",
    "\n",
    "\n",
    "df.to_excel('C:/Users/Jingz/OneDrive/CarrierGene/2019.07.10-HPO (en cours)/hpo_import_python/Hpo_group_data/hpo_subclass_135_3_expode_class_en.xlsx', header=True, index=False)\n",
    "\n",
    "\n",
    "### step_3 : multiple lables encoder (see R code, will use choix 2 exporting data)\n",
    "# dense_matrix labels"
   ]
  },
  {
   "cell_type": "code",
   "execution_count": 139,
   "metadata": {},
   "outputs": [
    {
     "data": {
      "text/html": [
       "<div>\n",
       "<style scoped>\n",
       "    .dataframe tbody tr th:only-of-type {\n",
       "        vertical-align: middle;\n",
       "    }\n",
       "\n",
       "    .dataframe tbody tr th {\n",
       "        vertical-align: top;\n",
       "    }\n",
       "\n",
       "    .dataframe thead th {\n",
       "        text-align: right;\n",
       "    }\n",
       "</style>\n",
       "<table border=\"1\" class=\"dataframe\">\n",
       "  <thead>\n",
       "    <tr style=\"text-align: right;\">\n",
       "      <th></th>\n",
       "      <th>new_split</th>\n",
       "      <th>index</th>\n",
       "    </tr>\n",
       "  </thead>\n",
       "  <tbody>\n",
       "    <tr>\n",
       "      <th>0</th>\n",
       "      <td>The second sexual characteristics are normal.</td>\n",
       "      <td>0</td>\n",
       "    </tr>\n",
       "    <tr>\n",
       "      <th>0</th>\n",
       "      <td>The testicular volume is abnormal, 7 mL left, ...</td>\n",
       "      <td>0</td>\n",
       "    </tr>\n",
       "    <tr>\n",
       "      <th>0</th>\n",
       "      <td>The vas deferens is normal.</td>\n",
       "      <td>0</td>\n",
       "    </tr>\n",
       "    <tr>\n",
       "      <th>0</th>\n",
       "      <td>The total number of sperm is 0 million.</td>\n",
       "      <td>0</td>\n",
       "    </tr>\n",
       "    <tr>\n",
       "      <th>0</th>\n",
       "      <td>Chromosome 46, X, derY.</td>\n",
       "      <td>0</td>\n",
       "    </tr>\n",
       "    <tr>\n",
       "      <th>...</th>\n",
       "      <td>...</td>\n",
       "      <td>...</td>\n",
       "    </tr>\n",
       "    <tr>\n",
       "      <th>518</th>\n",
       "      <td>Understand the genetic changes of the digestiv...</td>\n",
       "      <td>518</td>\n",
       "    </tr>\n",
       "    <tr>\n",
       "      <th>519</th>\n",
       "      <td>9 days after colon cancer surgery.</td>\n",
       "      <td>519</td>\n",
       "    </tr>\n",
       "    <tr>\n",
       "      <th>519</th>\n",
       "      <td>Colon cancer radical surgery on April 1, 2019.</td>\n",
       "      <td>519</td>\n",
       "    </tr>\n",
       "    <tr>\n",
       "      <th>519</th>\n",
       "      <td>No family history.</td>\n",
       "      <td>519</td>\n",
       "    </tr>\n",
       "    <tr>\n",
       "      <th>519</th>\n",
       "      <td>Understand the genetic changes of gastrointest...</td>\n",
       "      <td>519</td>\n",
       "    </tr>\n",
       "  </tbody>\n",
       "</table>\n",
       "<p>2174 rows × 2 columns</p>\n",
       "</div>"
      ],
      "text/plain": [
       "                                             new_split  index\n",
       "0        The second sexual characteristics are normal.      0\n",
       "0    The testicular volume is abnormal, 7 mL left, ...      0\n",
       "0                          The vas deferens is normal.      0\n",
       "0              The total number of sperm is 0 million.      0\n",
       "0                              Chromosome 46, X, derY.      0\n",
       "..                                                 ...    ...\n",
       "518  Understand the genetic changes of the digestiv...    518\n",
       "519                 9 days after colon cancer surgery.    519\n",
       "519     Colon cancer radical surgery on April 1, 2019.    519\n",
       "519                                 No family history.    519\n",
       "519  Understand the genetic changes of gastrointest...    519\n",
       "\n",
       "[2174 rows x 2 columns]"
      ]
     },
     "execution_count": 139,
     "metadata": {},
     "output_type": "execute_result"
    }
   ],
   "source": []
  },
  {
   "cell_type": "code",
   "execution_count": 67,
   "metadata": {},
   "outputs": [],
   "source": [
    "### clinical training data transfermation, to merge with hpo_class_25_expode.csv  (code in R ### for gold standard corpus)\n",
    "\n",
    "df1 = pd.read_csv('C:/Users/Jingz/OneDrive/CarrierGene/2019.07.10-HPO (en cours)/NLP_for_onedrive/Data_Prepare/Training_data_final.csv', encoding='ANSI')\n",
    "df1 = df1[df1['HP']!='无'].sort_values(by='index').reset_index(drop=True)\n",
    "df1['index'] = df1.index\n",
    "df1\n",
    "\n",
    "df2 = pd.DataFrame({'HP': df1['HP'].str.split(';').explode()})\n",
    "df2['index'] = df2.index\n",
    "df2\n",
    "\n",
    "\n",
    "df = pd.merge(df1, df2, on='index', how='outer')\n",
    "df = df.drop(['HP_x','index'], axis=1).drop_duplicates().reset_index(drop=True)\n",
    "df.rename(columns = {'HP_y':'HP'}, inplace = True)\n",
    "df.to_csv('C://Users/Jingz/OneDrive/CarrierGene/2019.07.10-HPO (en cours)/NLP_for_onedrive/Not_In_Database/sup_unsup/Training_data_final_ancenstral_HP.csv', header=True, index=False)"
   ]
  },
  {
   "cell_type": "markdown",
   "metadata": {},
   "source": [
    "## Sentences tokenization"
   ]
  },
  {
   "cell_type": "code",
   "execution_count": 141,
   "metadata": {},
   "outputs": [],
   "source": [
    "df1 = pd.read_csv('C://Users/Jingz/OneDrive/CarrierGene/2019.07.10-HPO (en cours)/Cluster_R/analysis_output/clinical_informations_all_results.csv', encoding='ANSI')\n",
    "df1 = df1.dropna(subset=['Clinical_Information.y']).drop_duplicates().reset_index(drop=True)\n",
    "df1.head()\n",
    "\n",
    "sentences_x = list()\n",
    "clix = df['Clinical_Information.y'].tolist()\n",
    "for i in clix:\n",
    "    sentences_x.append(nltk.sent_tokenize(i))\n",
    "        \n",
    "df1['Clinical_Information_yt'] =  sentences_x\n",
    "df1['index'] = df1.index"
   ]
  },
  {
   "cell_type": "code",
   "execution_count": 146,
   "metadata": {},
   "outputs": [],
   "source": [
    "df2 = pd.DataFrame({'new_split': df['Clinical_Information_yt'].explode()})\n",
    "df2['index'] = df2.index\n",
    "df2\n",
    "\n",
    "# merge split data with original data\n",
    "\n",
    "df = pd.merge(df1, df2, on='index', how='outer')\n",
    "df = df[['Sample_ID','Panel_Type','Clinical_Information.x', 'new_split']]\n",
    "df.rename(columns =  {'Clinical_Information.y': 'new_split'}, inplace=True)\n",
    "df = df.drop_duplicates().reset_index(drop=True)\n",
    "\n",
    "df.to_csv('C://Users/Jingz/OneDrive/CarrierGene/2019.07.10-HPO (en cours)/Cluster_R/analysis_output/clinical_informations_all_results_token.csv', encoding='ANSI', header=True, index=False)"
   ]
  },
  {
   "cell_type": "code",
   "execution_count": 34,
   "metadata": {},
   "outputs": [],
   "source": [
    "### sentences tokenization for Chinese version\n",
    "\n",
    "sentences_x = list()\n",
    "clix = df['Clinical_Information.y'].tolist()\n",
    "for i in clix:\n",
    "    sentences_x.append(nltk.sent_tokenize(i))\n",
    "        \n",
    "sentences=[]\n",
    "for i in sentences_x:\n",
    "    for b in i:\n",
    "        sentences.append(b)\n",
    "sentences = pd .DataFrame(sentences)\n",
    "\n",
    "print(sentences)\n",
    "\n",
    "# remove duplication and NA\n",
    "sentences = sentences.drop_duplicates()\n",
    "sentences = sentences.dropna()\n",
    "print('remove duplication and Na, now data dimension is :', sentences.shape)\n",
    "\n",
    "\n",
    "# export and save\n",
    "sentences.columns = ['x_cn']\n",
    "sentences.head()\n",
    "sentences.to_csv('cli.tokenizing_all.csv', header=True, index=False) "
   ]
  },
  {
   "cell_type": "markdown",
   "metadata": {},
   "source": [
    "## Translation"
   ]
  },
  {
   "cell_type": "code",
   "execution_count": 8,
   "metadata": {},
   "outputs": [
    {
     "data": {
      "text/plain": [
       "'Testis volume is normal, 17 mL.'"
      ]
     },
     "execution_count": 8,
     "metadata": {},
     "output_type": "execute_result"
    }
   ],
   "source": [
    "#### translate with python translation module\n",
    "\n",
    "df = pd.read_csv('cli.tokenizing_all.csv')\n",
    "\n",
    "\n",
    "#### python translator\n",
    "\n",
    "from translate import Translator\n",
    "\n",
    "translator = Translator(from_lang=\"zh\", to_lang=\"en\")\n",
    "#translation = translator.translate(\"This is a pen.\")\n",
    "translation = translator.translate(df.iloc[8][0])\n",
    "translation\n",
    "\n",
    "# df['x_en'] = df['x_cn'].apply(lambda x:  print(translator.translate(str(x))))\n",
    "# df.to_csv('cli.tokenizing_all_translate.csv', header=True, index=False) \n",
    "\n",
    "\n",
    "#### google translator\n",
    "\n",
    "#from googletrans import Translator\n",
    "\n",
    "#translator  = Translator()\n",
    "#translation = translator.translate(\"This is a pen.\")"
   ]
  }
 ],
 "metadata": {
  "celltoolbar": "Tags",
  "kernelspec": {
   "display_name": "Python 3",
   "language": "python",
   "name": "python3"
  },
  "language_info": {
   "codemirror_mode": {
    "name": "ipython",
    "version": 3
   },
   "file_extension": ".py",
   "mimetype": "text/x-python",
   "name": "python",
   "nbconvert_exporter": "python",
   "pygments_lexer": "ipython3",
   "version": "3.8.8"
  }
 },
 "nbformat": 4,
 "nbformat_minor": 4
}
