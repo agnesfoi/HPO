{
 "cells": [
  {
   "cell_type": "code",
   "execution_count": null,
   "metadata": {},
   "outputs": [],
   "source": [
    "https://realpython.com/python-keras-text-classification/ #choosing-a-data-set"
   ]
  },
  {
   "cell_type": "code",
   "execution_count": 3,
   "metadata": {},
   "outputs": [],
   "source": [
    "import jieba\n",
    "import jieba.analyse\n",
    "\n",
    "#from keras.models import Sequential\n",
    "from keras import layers, metrics\n",
    "from keras.layers import Dense, Activation, Dropout\n",
    "\n",
    "#import tensorflow as tf\n",
    "import pickle\n",
    "import gensim\n",
    "from gensim.models import Word2Vec\n",
    "\n",
    "from sklearn.metrics import accuracy_score\n",
    "from sklearn.metrics import precision_score\n",
    "from sklearn.metrics import recall_score\n",
    "from sklearn.metrics import f1_score\n",
    "\n",
    "import os\n",
    "os.chdir('C://Users/Jingz/OneDrive/CarrierGene/2019.07.10-HPO (done)/NLP_for_onedrive')\n",
    "from NLP_function import *\n",
    "os.chdir('C://Users/Jingz/OneDrive/CarrierGene/2019.07.10-HPO (done)/NLP_for_onedrive/In_Database_cn')"
   ]
  },
  {
   "cell_type": "markdown",
   "metadata": {},
   "source": [
    "# Import and transform into vector"
   ]
  },
  {
   "cell_type": "code",
   "execution_count": 5,
   "metadata": {},
   "outputs": [
    {
     "name": "stderr",
     "output_type": "stream",
     "text": [
      "Building prefix dict from the default dictionary ...\n",
      "Loading model from cache C:\\Users\\Jingz\\AppData\\Local\\Temp\\jieba.cache\n",
      "Loading model cost 0.593 seconds.\n",
      "Prefix dict has been built successfully.\n"
     ]
    }
   ],
   "source": [
    "os.chdir('C://Users/Jingz/OneDrive/CarrierGene/2019.07.10-HPO (done)/NLP_for_onedrive')\n",
    "X,Y = read_dataset('cli.tokenizing_all_hpo.csv', index=102, lan ='cn')\n",
    "\n",
    "# TOKENIZATION\n",
    "x_cut = X.apply(lambda txt: list(jieba.cut(txt))) #调用结巴分词"
   ]
  },
  {
   "cell_type": "code",
   "execution_count": null,
   "metadata": {},
   "outputs": [],
   "source": [
    "x_cut.head()"
   ]
  },
  {
   "cell_type": "markdown",
   "metadata": {},
   "source": [
    "### X: Creat dictionary"
   ]
  },
  {
   "cell_type": "code",
   "execution_count": 8,
   "metadata": {},
   "outputs": [],
   "source": [
    "maxlen = 200\n",
    "min_count = 5 \n",
    "content = []\n",
    "\n",
    "for i in x_cut:\n",
    "\tcontent.extend(i)\n",
    "\n",
    "## Creat Dictionary\n",
    "tokenizer = pd.Series(content).value_counts()\n",
    "tokenizer = tokenizer[tokenizer >= min_count]\n",
    "tokenizer [:] = range(1, len(tokenizer)+1)\n",
    "tokenizer [''] = 0\n",
    "\n",
    "vocab_size = len(tokenizer.index)\n",
    "\n",
    "## count\n",
    "def doc2num(s, maxlen): \n",
    "    s = [i for i in s if i in tokenizer.index]\n",
    "    s = s[:maxlen] + ['']*max(0, maxlen-len(s))\n",
    "    return list(tokenizer[s])\n",
    "\n",
    "doc2num = x_cut .apply(lambda s: doc2num(s, maxlen))\n",
    "\n",
    "X = np.array(list(doc2num))"
   ]
  },
  {
   "cell_type": "markdown",
   "metadata": {},
   "source": [
    "### Y : One-hot Encoding"
   ]
  },
  {
   "cell_type": "code",
   "execution_count": 5,
   "metadata": {},
   "outputs": [
    {
     "name": "stdout",
     "output_type": "stream",
     "text": [
      "number of sample  672\n",
      "18 levels\n",
      "Y_onehot shape  (672, 18)\n"
     ]
    }
   ],
   "source": [
    "# encode the list of cities into categorical integer values\n",
    "\n",
    "from sklearn.preprocessing import LabelEncoder\n",
    "\n",
    "encoder_lab = LabelEncoder()\n",
    "Y_labels = encoder_lab.fit_transform(Y)\n",
    "num_classes = np.max(Y_labels) + 1\n",
    "print('number of sample ', Y_labels.shape[0])\n",
    "print(np.max(Y_labels) + 1, 'levels')\n",
    "\n",
    "# transform into one-hot array\n",
    "\n",
    "from sklearn.preprocessing import OneHotEncoder\n",
    "\n",
    "encoder = OneHotEncoder(sparse=False)\n",
    "Y_onehot = Y_labels.reshape((len(Y_labels), 1))\n",
    "Y_onehot = encoder.fit_transform(Y_onehot)\n",
    "print('Y_onehot shape ',Y_onehot.shape)"
   ]
  },
  {
   "cell_type": "code",
   "execution_count": 6,
   "metadata": {},
   "outputs": [
    {
     "data": {
      "text/html": [
       "<div>\n",
       "<style scoped>\n",
       "    .dataframe tbody tr th:only-of-type {\n",
       "        vertical-align: middle;\n",
       "    }\n",
       "\n",
       "    .dataframe tbody tr th {\n",
       "        vertical-align: top;\n",
       "    }\n",
       "\n",
       "    .dataframe thead th {\n",
       "        text-align: right;\n",
       "    }\n",
       "</style>\n",
       "<table border=\"1\" class=\"dataframe\">\n",
       "  <thead>\n",
       "    <tr style=\"text-align: right;\">\n",
       "      <th></th>\n",
       "      <th>y_id</th>\n",
       "      <th>y_labels</th>\n",
       "    </tr>\n",
       "  </thead>\n",
       "  <tbody>\n",
       "    <tr>\n",
       "      <th>0</th>\n",
       "      <td>0</td>\n",
       "      <td>不孕不育</td>\n",
       "    </tr>\n",
       "    <tr>\n",
       "      <th>1</th>\n",
       "      <td>1</td>\n",
       "      <td>多囊卵巢</td>\n",
       "    </tr>\n",
       "    <tr>\n",
       "      <th>2</th>\n",
       "      <td>2</td>\n",
       "      <td>女性外生殖器中个体有四六XY核型</td>\n",
       "    </tr>\n",
       "    <tr>\n",
       "      <th>3</th>\n",
       "      <td>3</td>\n",
       "      <td>无</td>\n",
       "    </tr>\n",
       "    <tr>\n",
       "      <th>4</th>\n",
       "      <td>4</td>\n",
       "      <td>无精子症</td>\n",
       "    </tr>\n",
       "  </tbody>\n",
       "</table>\n",
       "</div>"
      ],
      "text/plain": [
       "   y_id          y_labels\n",
       "0     0              不孕不育\n",
       "1     1              多囊卵巢\n",
       "2     2  女性外生殖器中个体有四六XY核型\n",
       "3     3                 无\n",
       "4     4              无精子症"
      ]
     },
     "execution_count": 6,
     "metadata": {},
     "output_type": "execute_result"
    }
   ],
   "source": [
    "lables = pd.DataFrame({'y_id': encoder.categories_[0].tolist(), 'y_labels':encoder_lab.classes_.tolist()})\n",
    "lables.head()\n",
    "\n",
    "#lables = pd.DataFrame({'Y_labels': Y_labels, 'Y': Y})\n",
    "#lables = lables.drop_duplicates().sort_values('Y_labels')\n",
    "#lables.head()"
   ]
  },
  {
   "cell_type": "markdown",
   "metadata": {},
   "source": [
    "### Split data"
   ]
  },
  {
   "cell_type": "code",
   "execution_count": 103,
   "metadata": {},
   "outputs": [
    {
     "name": "stdout",
     "output_type": "stream",
     "text": [
      "x_train shape: (403,) Y_train shape: (403, 18) X_test shape: (269,) Y_test shape: (269, 18)\n"
     ]
    }
   ],
   "source": [
    "from sklearn.model_selection import train_test_split\n",
    "\n",
    "X_train, X_test, Y_train, Y_test = train_test_split(\n",
    "    X, Y_onehot, test_size=0.4, random_state=10)\n",
    "#print(x_train, Y_train)\n",
    "print('x_train shape:', X_train.shape, 'Y_train shape:', Y_train.shape, 'X_test shape:', X_test.shape, 'Y_test shape:', Y_test.shape)"
   ]
  },
  {
   "cell_type": "markdown",
   "metadata": {},
   "source": [
    "#  Load pretrained embeddings"
   ]
  },
  {
   "cell_type": "markdown",
   "metadata": {},
   "source": [
    "GloVe co-occurrence matrix (faster to compute), Word2Vec neural networks (more accurate)"
   ]
  },
  {
   "cell_type": "code",
   "execution_count": null,
   "metadata": {},
   "outputs": [],
   "source": [
    "from gensim.models import Word2Vec\n",
    "\n",
    "# train word embedding model with local data\n",
    "model = Word2Vec(x_cut.tolist(),  size=300, min_count=0, workers=8, alpha=0.025)\n",
    "print(model)\n",
    "\n",
    "# save the vectors in a new matrix\n",
    "embedding_matrix = np.zeros((len(model.wv.vocab) + 1, 300))\n",
    "for i, vec in enumerate(model.wv.vectors):\n",
    "    embedding_matrix[i] = vec\n",
    "\n",
    "w2v = dict(zip(model.wv.index2word, model.wv.syn0)) \n",
    "print('local dictionary has',len(w2v), 'vocabularies, with dimension of 300')\n",
    "\n",
    "#model.save('M_Word2Vec_model.bin') \n",
    "#model = Word2Vec.load('M_Word2Vec_model.bin')  # read saved model\n",
    "\n",
    "#model.wv.most_similar_cosmul('异常') # model not good"
   ]
  },
  {
   "cell_type": "code",
   "execution_count": null,
   "metadata": {},
   "outputs": [],
   "source": [
    "# load pretrained embedding\n",
    "#os.chdir('C://Users/Jingz/OneDrive/CarrierGene/2019.07.10-HPO (en cours)/')\n",
    "\n",
    "file = 'NLP_python\\Embedding\\Word2Vec\\cn_char_fastnlp_100d.txt'\n",
    "cn_model = gensim.models.KeyedVectors.load_word2vec_format(file, binary=True)\n",
    "cn_model.init_sims(replace=True)\n",
    "\n",
    "\n",
    "# load from google \n",
    "from gensim.models import KeyedVectors\n",
    "filename = 'GoogleNews-vectors-negative300.bin'\n",
    "model = KeyedVectors.load_word2vec_format(filename, binary=True)\n",
    "\n",
    "\n",
    "# load Stanford’s GloVe Embedding\n",
    "from gensim.scripts.glove2word2vec import glove2word2vec\n",
    "glove_input_file = 'glove.txt'\n",
    "word2vec_output_file = 'word2vec.txt'\n",
    "#word2vec_output_file = 'glove.6B.100d.txt.word2vec'\n",
    "glove2word2vec(glove_input_file, word2vec_output_file)\n",
    "\t \n",
    "    \n",
    "from gensim.scripts.glove2word2vec import glove2word2vec\n",
    "glove_input_file = 'glove.txt'\n",
    "word2vec_output_file = 'word2vec.txt'\n",
    "glove2word2vec(glove_input_file, word2vec_output_file)\n",
    "\n",
    "from fastNLP.embeddings import StaticEmbedding\n",
    "word2vec_embed = StaticEmbedding(tokenizer.index, model_dir_or_name='cn-char-fastnlp-100d')"
   ]
  },
  {
   "cell_type": "code",
   "execution_count": 92,
   "metadata": {},
   "outputs": [
    {
     "name": "stdout",
     "output_type": "stream",
     "text": [
      "的时候\n",
      "(100,)\n"
     ]
    },
    {
     "name": "stderr",
     "output_type": "stream",
     "text": [
      "C:\\Users\\Jingz\\Anaconda3\\lib\\site-packages\\ipykernel_launcher.py:1: DeprecationWarning: Call to deprecated `wv` (Attribute will be removed in 4.0.0, use self instead).\n",
      "  \"\"\"Entry point for launching an IPython kernel.\n",
      "C:\\Users\\Jingz\\Anaconda3\\lib\\site-packages\\ipykernel_launcher.py:2: DeprecationWarning: Call to deprecated `wv` (Attribute will be removed in 4.0.0, use self instead).\n",
      "  \n"
     ]
    }
   ],
   "source": [
    "word_vectors =  cn_model.wv\n",
    "words = list(cn_model.wv.vocab)\n",
    "print(words[5])\n",
    "embedding_dim = cn_model['的时候'].shape\n",
    "print(embedding_dim)"
   ]
  },
  {
   "cell_type": "code",
   "execution_count": null,
   "metadata": {},
   "outputs": [],
   "source": [
    "https://fastnlp.readthedocs.io/zh/latest/tutorials/tutorial_1_data_preprocess.html\n",
    "https://blog.csdn.net/qq_27586341/article/details/90408342\n",
    "https://www.cnblogs.com/dogecheng/p/11565530.html\n",
    "    \n",
    "https://blog.csdn.net/ziyonghong/article/details/83926800\n",
    "https://nadbordrozd.github.io/blog/2016/05/20/text-classification-with-word2vec/"
   ]
  },
  {
   "cell_type": "code",
   "execution_count": 114,
   "metadata": {},
   "outputs": [
    {
     "data": {
      "image/png": "[encoded data removed]",
      "text/plain": [
       "<Figure size 432x288 with 1 Axes>"
      ]
     },
     "metadata": {},
     "output_type": "display_data"
    }
   ],
   "source": [
    "train_tokens = []\n",
    "for text in X_train:\n",
    "    # 去掉标点\n",
    "    text = re.sub(\"[\\s+\\.\\!\\/_,$%^*(+\\\"\\']+|[+——！，。？、~@#￥%……&*（）]+\", \"\", text)\n",
    "    # 结巴分词\n",
    "    cut = jieba.cut(text)\n",
    "    # 结巴分词的输出结果为一个生成器\n",
    "    # 把生成器转换为list\n",
    "    cut_list = [ i for i in cut ]\n",
    "    for i, word in enumerate(cut_list):\n",
    "        try:\n",
    "            # 将词转换为索引index\n",
    "            cut_list[i] = cn_model.vocab[word].index\n",
    "        except KeyError:\n",
    "            # 如果词不在字典中，则输出0\n",
    "            cut_list[i] = 0\n",
    "    train_tokens.append(cut_list)\n",
    "# 获得所有tokens的长度\n",
    "num_tokens = [ len(tokens) for tokens in train_tokens ]\n",
    "num_tokens = np.array(num_tokens)\n",
    "# 平均tokens的长度\n",
    "np.mean(num_tokens)\n",
    "# 最长的评价tokens的长度\n",
    "np.max(num_tokens)\n",
    "plt.hist(np.log(num_tokens), bins=100)\n",
    "plt.xlim((0, 5))\n",
    "plt.ylabel('number of tokens')\n",
    "plt.xlabel('length of tokens')\n",
    "plt.title('Distribution of tokens length')\n",
    "plt.show()"
   ]
  },
  {
   "cell_type": "code",
   "execution_count": 117,
   "metadata": {},
   "outputs": [
    {
     "name": "stdout",
     "output_type": "stream",
     "text": [
      "睾丸体积异常左一四毫升右一七毫升\n"
     ]
    }
   ],
   "source": [
    "# 取tokens平均值并加上两个tokens的标准差，\n",
    "# 假设tokens长度的分布为正态分布，则max_tokens这个值可以涵盖95%左右的样本\n",
    "max_tokens = np.mean(num_tokens) + 2 * np.std(num_tokens)\n",
    "max_tokens = int(max_tokens)\n",
    " \n",
    "# 取tokens的长度为236时，大约95%的样本被涵盖\n",
    "# 我们对长度不足的进行padding，超长的进行修剪\n",
    "np.sum( num_tokens < max_tokens ) / len(num_tokens)\n",
    "# 用来将tokens转换为文本\n",
    " \n",
    " \n",
    "def reverse_tokens(tokens):\n",
    "    text1 = ''\n",
    "    for i in tokens:\n",
    "        if i != 0:\n",
    "            text1 = text1 + cn_model.index2word[i]\n",
    "        else:\n",
    "            text1 = text1 + ' '\n",
    "    return text\n",
    " \n",
    " \n",
    "reverse = reverse_tokens(train_tokens[0])\n",
    "print(reverse)"
   ]
  },
  {
   "cell_type": "code",
   "execution_count": null,
   "metadata": {},
   "outputs": [],
   "source": [
    "cn_model.vocab['睾丸'].index"
   ]
  },
  {
   "cell_type": "code",
   "execution_count": null,
   "metadata": {},
   "outputs": [],
   "source": [
    "os.chdir('C://Users/Jingz/OneDrive/CarrierGene/2019.07.10-HPO (en cours)/')\n",
    "\n",
    "import numpy as np\n",
    "with open(\"NLP_python\\Embedding\\Word2Vec\\cn_tri_fastnlp_100d.txt\", \"rb\") as lines:\n",
    "    w2v = {line.split()[0]: np.array(map(float, line.split()[1:]))\n",
    "           for line in lines}"
   ]
  },
  {
   "cell_type": "code",
   "execution_count": null,
   "metadata": {},
   "outputs": [],
   "source": [
    "os.chdir('C://Users/Jingz/OneDrive/CarrierGene/2019.07.10-HPO (en cours)/')\n",
    "\n",
    "embedding_dim=50\n",
    "embedding_matrix = create_embedding_matrix(\n",
    "    'NLP_python\\Embedding\\Word2Vec\\cn_tri_fastnlp_100d.txt',\n",
    "    tokenizer.index, embedding_dim)"
   ]
  },
  {
   "cell_type": "code",
   "execution_count": 135,
   "metadata": {},
   "outputs": [
    {
     "data": {
      "text/plain": [
       "<function NLP_function.create_embedding_matrix(filepath, word_index, embedding_dim)>"
      ]
     },
     "execution_count": 135,
     "metadata": {},
     "output_type": "execute_result"
    }
   ],
   "source": [
    "create_embedding_matrix"
   ]
  },
  {
   "cell_type": "markdown",
   "metadata": {},
   "source": [
    "#### GlobalMaxPool1D model"
   ]
  },
  {
   "cell_type": "code",
   "execution_count": 172,
   "metadata": {},
   "outputs": [
    {
     "name": "stdout",
     "output_type": "stream",
     "text": [
      "Model: \"sequential_4\"\n",
      "_________________________________________________________________\n",
      "Layer (type)                 Output Shape              Param #   \n",
      "=================================================================\n",
      "embedding_4 (Embedding)      (None, 200, 50)           6300      \n",
      "_________________________________________________________________\n",
      "global_max_pooling1d_2 (Glob (None, 50)                0         \n",
      "_________________________________________________________________\n",
      "dense_3 (Dense)              (None, 10)                510       \n",
      "_________________________________________________________________\n",
      "dense_4 (Dense)              (None, 18)                198       \n",
      "=================================================================\n",
      "Total params: 7,008\n",
      "Trainable params: 7,008\n",
      "Non-trainable params: 0\n",
      "_________________________________________________________________\n"
     ]
    }
   ],
   "source": [
    "model = Sequential()\n",
    "model.add(layers.Embedding(vocab_size, embedding_dim, \n",
    "                           #weights=[embedding_matrix], \n",
    "                           input_length=maxlen, \n",
    "                           trainable=True)) #  embeddings are additionally trained\n",
    "model.add(layers.GlobalMaxPool1D())\n",
    "model.add(layers.Dense(10, activation='relu'))  # softmax\n",
    "model.add(layers.Dense(num_classes, activation='sigmoid'))\n",
    "model.compile(optimizer='adam',\n",
    "              loss='categorical_crossentropy',\n",
    "              metrics=['acc'])\n",
    "model.summary()"
   ]
  },
  {
   "cell_type": "code",
   "execution_count": null,
   "metadata": {},
   "outputs": [],
   "source": [
    "history = model.fit(X_train, Y_train,\n",
    "                epochs=20,\n",
    "                verbose=False, \n",
    "                validation_data=(X_test, Y_test),\n",
    "                batch_size=10)\n",
    "loss, accuracy = model.evaluate(X_train, Y_train, verbose=False)\n",
    "print(\"Training Accuracy: {:.4f}\".format(accuracy))\n",
    "loss, accuracy = model.evaluate(X_test, Y_test, verbose=False)\n",
    "print(\"Testing Accuracy:  {:.4f}\".format(accuracy))\n",
    "plot_history(history)"
   ]
  },
  {
   "cell_type": "markdown",
   "metadata": {},
   "source": [
    "##### prediction on individual examples"
   ]
  },
  {
   "cell_type": "code",
   "execution_count": 200,
   "metadata": {},
   "outputs": [
    {
     "name": "stdout",
     "output_type": "stream",
     "text": [
      "Actual label   : [0. 0. 0. 0. 1. 0. 0. 0. 0. 0. 0. 0. 0. 0. 0. 0. 0.]\n",
      "Predicted label: [0. 0. 0. 0. 1. 0. 0. 0. 0. 0. 0. 0. 0. 0. 0. 0. 0.]\n",
      "Predicted label:  0    4\n",
      "Name: 4, dtype: int64 \n",
      "\n"
     ]
    }
   ],
   "source": [
    "labels = encoder.categories_\n",
    "#labels = encoder_lab.classes_\n",
    "\n",
    "for i in range(1):\n",
    "    prediction = model.predict(np.array([X_test[i]]))\n",
    "    predicted_label = pd.DataFrame(labels)[np.argmax(prediction)]\n",
    "    print('Actual label   :', Y_test[i])\n",
    "    print('Predicted label:', Y_test[i])\n",
    "    print(\"Predicted label: \", predicted_label,\"\\n\")"
   ]
  },
  {
   "cell_type": "markdown",
   "metadata": {},
   "source": [
    "##### prediction on all and check model metrics"
   ]
  },
  {
   "cell_type": "code",
   "execution_count": 205,
   "metadata": {},
   "outputs": [
    {
     "name": "stdout",
     "output_type": "stream",
     "text": [
      "for sample [0], predicted classe is : 4\n",
      "for sample [0], real classe is : 4\n"
     ]
    }
   ],
   "source": [
    "pred_classes = model.predict_classes([X_test], verbose=0)\n",
    "pred_classes = pred_classes.tolist()\n",
    "print('for sample [0], predicted classe is :', pred_classes[0])\n",
    "\n",
    "Y_test_classes = []\n",
    "\n",
    "for i in range(len(Y_test)):\n",
    "    tem = pd.DataFrame({'y_id': encoder.categories_[0], 'Y_test': Y_test[i]})\n",
    "    index = tem[tem['Y_test']==1]['y_id']\n",
    "    Y_test_classes.append(index.values[0])\n",
    "print('for sample [0], real classe is :', Y_test_classes[0]) "
   ]
  },
  {
   "cell_type": "code",
   "execution_count": 221,
   "metadata": {},
   "outputs": [
    {
     "name": "stdout",
     "output_type": "stream",
     "text": [
      "Accuracy: 0.881041\n",
      "Precision_macro: 0.842492\n",
      "Recall_macro: 0.881041\n",
      "F1 score_macro: 0.852997\n"
     ]
    }
   ],
   "source": [
    "# accuracy: (tp + tn) / (p + n)\n",
    "accuracy = accuracy_score(Y_test_classes, pred_classes)\n",
    "print('Accuracy: %f' % accuracy)  # same \n",
    "# precision tp / (tp + fp)\n",
    "precision = precision_score(Y_test_classes, pred_classes, average='weighted') # take into account for label imbalance\n",
    "print('Precision_macro: %f' % precision)\n",
    "# recall: tp / (tp + fn)\n",
    "recall = recall_score(Y_test_classes, pred_classes, average='weighted')\n",
    "print('Recall_macro: %f' % recall)\n",
    "# f1: 2 tp / (2 tp + fp + fn)\n",
    "f1 = f1_score(Y_test_classes, pred_classes, average='weighted')\n",
    "print('F1 score_macro: %f' % f1)"
   ]
  },
  {
   "cell_type": "markdown",
   "metadata": {},
   "source": [
    "##### save model"
   ]
  },
  {
   "cell_type": "code",
   "execution_count": 34,
   "metadata": {},
   "outputs": [
    {
     "name": "stdout",
     "output_type": "stream",
     "text": [
      "Saved model to disk\n"
     ]
    }
   ],
   "source": [
    "os.chdir('C://Users/Jingz/OneDrive/CarrierGene/2019.07.10-HPO (en cours)/NLP_for_onedrive')\n",
    "\n",
    "# save model and architecture to single file\n",
    "model.save(\"M_GlobalMaxPool1D.h5\")\n",
    "print(\"Saved model to disk\")"
   ]
  },
  {
   "cell_type": "markdown",
   "metadata": {},
   "source": [
    "### Convolutional 1D (CNN)"
   ]
  },
  {
   "cell_type": "code",
   "execution_count": 114,
   "metadata": {},
   "outputs": [
    {
     "name": "stdout",
     "output_type": "stream",
     "text": [
      "Model: \"sequential_3\"\n",
      "_________________________________________________________________\n",
      "Layer (type)                 Output Shape              Param #   \n",
      "=================================================================\n",
      "embedding_3 (Embedding)      (None, 100, 50)           10650     \n",
      "_________________________________________________________________\n",
      "conv1d_1 (Conv1D)            (None, 96, 128)           32128     \n",
      "_________________________________________________________________\n",
      "global_max_pooling1d_3 (Glob (None, 128)               0         \n",
      "_________________________________________________________________\n",
      "dense_5 (Dense)              (None, 10)                1290      \n",
      "_________________________________________________________________\n",
      "dense_6 (Dense)              (None, 17)                187       \n",
      "=================================================================\n",
      "Total params: 44,255\n",
      "Trainable params: 44,255\n",
      "Non-trainable params: 0\n",
      "_________________________________________________________________\n"
     ]
    }
   ],
   "source": [
    "embedding_dim = 50\n",
    "\n",
    "model = Sequential()\n",
    "model.add(layers.Embedding(vocab_size, \n",
    "                           embedding_dim, \n",
    "                           input_length=maxlen))\n",
    "model.add(layers.Conv1D(128, 5, activation='relu')) # 1D Convolutional filter\n",
    "model.add(layers.GlobalMaxPooling1D())\n",
    "model.add(layers.Dense(10, activation='relu'))\n",
    "model.add(layers.Dense(num_classes, activation='sigmoid'))\n",
    "model.compile(optimizer='adam',\n",
    "              loss='categorical_crossentropy',     # binary_crossentropy\n",
    "              metrics=['accuracy'])\n",
    "model.summary()"
   ]
  },
  {
   "cell_type": "code",
   "execution_count": 115,
   "metadata": {},
   "outputs": [
    {
     "name": "stdout",
     "output_type": "stream",
     "text": [
      "Training Accuracy: 0.9972\n",
      "Testing Accuracy:  0.9950\n"
     ]
    },
    {
     "data": {
      "image/png": "[encoded data removed]",
      "text/plain": [
       "<Figure size 864x360 with 2 Axes>"
      ]
     },
     "metadata": {},
     "output_type": "display_data"
    }
   ],
   "source": [
    "history = model.fit(X_train, Y_train,\n",
    "                epochs=20,\n",
    "                verbose=False, \n",
    "                validation_data=(X_test, Y_test),\n",
    "                batch_size=10)\n",
    "loss, accuracy = model.evaluate(X_train, Y_train, verbose=False)\n",
    "print(\"Training Accuracy: {:.4f}\".format(accuracy))\n",
    "loss, accuracy = model.evaluate(X_test, Y_test, verbose=False)\n",
    "print(\"Testing Accuracy:  {:.4f}\".format(accuracy))\n",
    "plot_history(history)"
   ]
  },
  {
   "cell_type": "markdown",
   "metadata": {},
   "source": [
    "##### save model"
   ]
  },
  {
   "cell_type": "code",
   "execution_count": 116,
   "metadata": {},
   "outputs": [
    {
     "name": "stdout",
     "output_type": "stream",
     "text": [
      "Saved model to disk\n"
     ]
    }
   ],
   "source": [
    "os.chdir('C://Users/Jingz/OneDrive/CarrierGene/2019.07.10-HPO (en cours)/NLP_for_onedrive')\n",
    "\n",
    "# save model and architecture to single file\n",
    "model.save(\"M_Conv1D.h5\")\n",
    "print(\"Saved model to disk\")"
   ]
  },
  {
   "cell_type": "markdown",
   "metadata": {},
   "source": [
    "### Hyperparameters Optimization"
   ]
  },
  {
   "cell_type": "code",
   "execution_count": 13,
   "metadata": {},
   "outputs": [],
   "source": [
    "param_grid = dict(num_filters=[32, 64, 128],\n",
    "                  kernel_size=[3, 5, 7],\n",
    "                  vocab_size=[5000], \n",
    "                  embedding_dim=[50],\n",
    "                  maxlen=[100])"
   ]
  },
  {
   "cell_type": "code",
   "execution_count": 17,
   "metadata": {},
   "outputs": [
    {
     "name": "stdout",
     "output_type": "stream",
     "text": [
      "Fitting 4 folds for each of 5 candidates, totalling 20 fits\n"
     ]
    },
    {
     "name": "stderr",
     "output_type": "stream",
     "text": [
      "[Parallel(n_jobs=1)]: Using backend SequentialBackend with 1 concurrent workers.\n",
      "[Parallel(n_jobs=1)]: Done  20 out of  20 | elapsed:  1.9min finished\n"
     ]
    }
   ],
   "source": [
    "from keras.wrappers.scikit_learn import KerasClassifier\n",
    "from sklearn.model_selection import RandomizedSearchCV\n",
    "\n",
    "model = KerasClassifier(build_fn=create_model,\n",
    "                        epochs=20, batch_size=10,\n",
    "                        verbose=False)\n",
    "grid = RandomizedSearchCV(estimator=model, param_distributions=param_grid,\n",
    "                          cv=4, verbose=1, n_iter=5)\n",
    "grid_result = grid.fit(X_train, Y_train)"
   ]
  },
  {
   "cell_type": "code",
   "execution_count": 18,
   "metadata": {},
   "outputs": [
    {
     "name": "stdout",
     "output_type": "stream",
     "text": [
      "0.9949704647950524\n"
     ]
    }
   ],
   "source": [
    "# Evaluate testing set\n",
    "test_accuracy = grid.score(X_test, Y_test)\n",
    "print(test_accuracy)"
   ]
  },
  {
   "cell_type": "markdown",
   "metadata": {},
   "source": [
    "# Prediction"
   ]
  },
  {
   "cell_type": "code",
   "execution_count": 41,
   "metadata": {},
   "outputs": [
    {
     "name": "stdout",
     "output_type": "stream",
     "text": [
      "Load model...\n",
      "Model: \"sequential_2\"\n",
      "_________________________________________________________________\n",
      "Layer (type)                 Output Shape              Param #   \n",
      "=================================================================\n",
      "embedding_2 (Embedding)      (None, 100, 50)           10650     \n",
      "_________________________________________________________________\n",
      "global_max_pooling1d_2 (Glob (None, 50)                0         \n",
      "_________________________________________________________________\n",
      "dense_3 (Dense)              (None, 10)                510       \n",
      "_________________________________________________________________\n",
      "dense_4 (Dense)              (None, 17)                187       \n",
      "=================================================================\n",
      "Total params: 11,347\n",
      "Trainable params: 11,347\n",
      "Non-trainable params: 0\n",
      "_________________________________________________________________\n"
     ]
    }
   ],
   "source": [
    "# load model and tokenizer\n",
    "loaded_model = tf.keras.models.load_model('M_GlobalMaxPool1D.h5') # or Conv1D_model.h5\n",
    "print('Load model...')\n",
    "model.summary()\n",
    "\n",
    "with open('tokenizer.pickle', 'rb') as handle:\n",
    "    loaded_tokenizer = pickle.load(handle)"
   ]
  },
  {
   "cell_type": "code",
   "execution_count": null,
   "metadata": {},
   "outputs": [],
   "source": [
    "i = 10\n",
    "txt = X[i]\n",
    "txt = loaded_tokenizer.texts_to_sequences([txt])\n",
    "txt_padded = pad_sequences(txt, padding='post', maxlen=maxlen)\n",
    "\n",
    "pred = model.predict_classes(txt_padded)\n",
    "print(X[i], 'Real class is:', Y[i])\n",
    "print(X[i], 'predicted as class', pred)\n",
    "print('lables :'.lables.loc[lables['Y_labels']==pred[0]])"
   ]
  },
  {
   "cell_type": "markdown",
   "metadata": {},
   "source": [
    "###############################################################################"
   ]
  },
  {
   "cell_type": "markdown",
   "metadata": {},
   "source": [
    "#  Train word embeddings (neural network)"
   ]
  },
  {
   "cell_type": "markdown",
   "metadata": {},
   "source": [
    "### 1-Dense model"
   ]
  },
  {
   "cell_type": "code",
   "execution_count": null,
   "metadata": {},
   "outputs": [],
   "source": [
    "# load model\n",
    "\n",
    "from keras.models import Sequential\n",
    "from keras import layers\n",
    "\n",
    "embedding_dim = 50\n",
    "\n",
    "model = Sequential()\n",
    "model.add(layers.Embedding(input_dim=vocab_size, \n",
    "                           output_dim=embedding_dim, \n",
    "                           input_length=maxlen))\n",
    "model.add(layers.Flatten()) # define \n",
    "model.add(layers.Dense(10, activation='relu'))\n",
    "model.add(layers.Dense(1, activation='sigmoid'))\n",
    "model.compile(optimizer='adam',\n",
    "              loss='binary_crossentropy',\n",
    "              metrics=['accuracy'])\n",
    "model.summary()\n",
    "\n",
    "# we have 22400 new parameters to train. This number comes from vocab_size times the embedding_dim"
   ]
  },
  {
   "cell_type": "markdown",
   "metadata": {},
   "source": [
    "### 2-MaxPooling1D/AveragePooling1D or a GlobalMaxPooling1D/GlobalAveragePooling1D"
   ]
  },
  {
   "cell_type": "markdown",
   "metadata": {},
   "source": [
    "In the case of max pooling, take the maximum value of all features in the pool for each feature dimension. \n",
    "In the case of average pooling, take the average, but max pooling seems to be more commonly used as it highlights large values.\n",
    "Global max/average pooling takes the maximum/average of all features whereas in the other case you have to define the pool size."
   ]
  },
  {
   "cell_type": "code",
   "execution_count": null,
   "metadata": {},
   "outputs": [],
   "source": [
    "from keras.models import Sequential\n",
    "from keras import layers\n",
    "\n",
    "model = Sequential()\n",
    "model.add(layers.Embedding(input_dim=vocab_size, \n",
    "                           output_dim=embedding_dim, \n",
    "                           input_length=maxlen))\n",
    "model.add(layers.GlobalMaxPool1D())\n",
    "model.add(layers.Dense(10, activation='relu'))\n",
    "model.add(layers.Dense(1, activation='sigmoid'))\n",
    "model.compile(optimizer='adam',\n",
    "              loss='binary_crossentropy',\n",
    "              metrics=['accuracy'])\n",
    "model.summary()"
   ]
  },
  {
   "cell_type": "code",
   "execution_count": null,
   "metadata": {},
   "outputs": [],
   "source": [
    "history = model.fit(X_k, Y_labels,\n",
    "                    epochs=20,\n",
    "                    verbose=False,\n",
    "                    validation_data=(X_k, Y_labels),\n",
    "                    batch_size=10)\n",
    "loss, accuracy = model.evaluate(X_k, Y_labels, verbose=False)\n",
    "print(\"Training Accuracy: {:.4f}\".format(accuracy))\n",
    "loss, accuracy = model.evaluate(X_k, Y_labels, verbose=False)\n",
    "print(\"Testing Accuracy:  {:.4f}\".format(accuracy))\n",
    "plot_history(history)"
   ]
  }
 ],
 "metadata": {
  "kernelspec": {
   "display_name": "Python 3",
   "language": "python",
   "name": "python3"
  },
  "language_info": {
   "codemirror_mode": {
    "name": "ipython",
    "version": 3
   },
   "file_extension": ".py",
   "mimetype": "text/x-python",
   "name": "python",
   "nbconvert_exporter": "python",
   "pygments_lexer": "ipython3",
   "version": "3.8.3"
  }
 },
 "nbformat": 4,
 "nbformat_minor": 4
}
