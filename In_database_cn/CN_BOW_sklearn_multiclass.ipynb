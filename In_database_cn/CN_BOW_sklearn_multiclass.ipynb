{
 "cells": [
  {
   "cell_type": "markdown",
   "metadata": {},
   "source": [
]
  },
  {
   "cell_type": "code",
   "execution_count": 2,
   "metadata": {},
   "outputs": [],
   "source": [
    "import nltk\n",
    "import ssl"
   ]
  },
  {
   "cell_type": "code",
   "execution_count": null,
   "metadata": {},
   "outputs": [],
   "source": [
    "import nltk\n",
    "import ssl\n",
    "\n",
    "try:\n",
    "    _create_unverified_https_context = ssl._create_unverified_context\n",
    "except AttributeError:\n",
    "    pass\n",
    "else:\n",
    "    ssl._create_default_https_context = _create_unverified_https_context\n",
    "\n",
    "nltk.download()"
   ]
  },
  {
   "cell_type": "markdown",
   "metadata": {},
   "source": [
    "##### multiclass problem, need to re-tokenizing long phrase"
   ]
  },
  {
   "cell_type": "markdown",
   "metadata": {},
   "source": [
    "To do list : check each model + word2vec + chinese tokenization"
   ]
  },
  {
   "cell_type": "code",
   "execution_count": 3,
   "metadata": {},
   "outputs": [],
   "source": [
    "import jieba\n",
    "#import jieba.analyse\n",
    "\n",
    "import gensim\n",
    "import pickle\n",
    "import os\n",
    "import imblearn\n",
    "from sklearn import metrics\n",
    "from sklearn.model_selection import train_test_split\n",
    "from sklearn.feature_extraction.text import CountVectorizer, TfidfTransformer, TfidfVectorizer, HashingVectorizer\n",
    "#from sklearn.metrics import accuracy_score, confusion_matrix, classification_report\n",
    "\n",
    "import matplotlib.pyplot as plt \n",
    "\n",
    "from sklearn.pipeline import Pipeline\n",
    "import joblib\n",
    "\n",
    "from sklearn import svm\n",
    "from sklearn.svm import LinearSVC\n",
    "from sklearn.naive_bayes import MultinomialNB\n",
    "from sklearn.linear_model import SGDClassifier,LogisticRegression\n",
    "from sklearn.ensemble import RandomForestClassifier\n",
    "\n",
    "%matplotlib inline\n",
    "\n",
    "os.chdir('C://Users/Jingz/OneDrive/CarrierGene/2019.07.10-HPO (done)/NLP_for_onedrive')\n",
    "from NLP_function import *\n",
    "os.chdir('C://Users/Jingz/OneDrive/CarrierGene/2019.07.10-HPO (done)/NLP_for_onedrive/In_Database_cn') "
   ]
  },
  {
   "cell_type": "markdown",
   "metadata": {},
   "source": [
    "# Import and Split"
   ]
  },
  {
   "cell_type": "code",
   "execution_count": 28,
   "metadata": {},
   "outputs": [],
   "source": [
    "Df = pd.read_csv('C:/Users/Jingz/OneDrive/CarrierGene/2019.07.10-HPO (done)/NLP_for_onedrive/Data_Prepare/Training_data_final.csv', encoding='ANSI')\n",
    "\n",
    "# remove class without information\n",
    "Df = Df.fillna('无')\n",
    "Df = Df[Df.y_cn!='无']\n",
    "Df = Df[Df.y_cn!='正常']\n",
    "\n",
    "Df = Df.drop_duplicates(subset='x_cn')\n",
    "\n",
    "# remove less informative class\n",
    "#Df = Df[Df.y_cn_count>=10]"
   ]
  },
  {
   "cell_type": "code",
   "execution_count": 31,
   "metadata": {},
   "outputs": [
    {
     "data": {
      "text/html": [
       "<div>\n",
       "<style scoped>\n",
       "    .dataframe tbody tr th:only-of-type {\n",
       "        vertical-align: middle;\n",
       "    }\n",
       "\n",
       "    .dataframe tbody tr th {\n",
       "        vertical-align: top;\n",
       "    }\n",
       "\n",
       "    .dataframe thead th {\n",
       "        text-align: right;\n",
       "    }\n",
       "</style>\n",
       "<table border=\"1\" class=\"dataframe\">\n",
       "  <thead>\n",
       "    <tr style=\"text-align: right;\">\n",
       "      <th></th>\n",
       "      <th>index</th>\n",
       "      <th>x_cn</th>\n",
       "      <th>y_cn</th>\n",
       "      <th>tag</th>\n",
       "      <th>tag_class</th>\n",
       "      <th>check_group</th>\n",
       "      <th>change</th>\n",
       "      <th>y_cn_count</th>\n",
       "      <th>HP</th>\n",
       "    </tr>\n",
       "  </thead>\n",
       "  <tbody>\n",
       "    <tr>\n",
       "      <th>0</th>\n",
       "      <td>4534</td>\n",
       "      <td>I型糖尿病</td>\n",
       "      <td>1型糖尿病</td>\n",
       "      <td>无</td>\n",
       "      <td>无</td>\n",
       "      <td>9</td>\n",
       "      <td>无</td>\n",
       "      <td>4</td>\n",
       "      <td>HP:0100651</td>\n",
       "    </tr>\n",
       "    <tr>\n",
       "      <th>1</th>\n",
       "      <td>4535</td>\n",
       "      <td>青少年糖尿病</td>\n",
       "      <td>1型糖尿病</td>\n",
       "      <td>无</td>\n",
       "      <td>无</td>\n",
       "      <td>9</td>\n",
       "      <td>无</td>\n",
       "      <td>4</td>\n",
       "      <td>HP:0100651</td>\n",
       "    </tr>\n",
       "    <tr>\n",
       "      <th>2</th>\n",
       "      <td>4536</td>\n",
       "      <td>一型糖尿病</td>\n",
       "      <td>1型糖尿病</td>\n",
       "      <td>无</td>\n",
       "      <td>无</td>\n",
       "      <td>9</td>\n",
       "      <td>无</td>\n",
       "      <td>4</td>\n",
       "      <td>HP:0100651</td>\n",
       "    </tr>\n",
       "    <tr>\n",
       "      <th>3</th>\n",
       "      <td>4537</td>\n",
       "      <td>胰岛素 - 依赖性糖尿病</td>\n",
       "      <td>1型糖尿病</td>\n",
       "      <td>无</td>\n",
       "      <td>无</td>\n",
       "      <td>9</td>\n",
       "      <td>无</td>\n",
       "      <td>4</td>\n",
       "      <td>HP:0100651</td>\n",
       "    </tr>\n",
       "    <tr>\n",
       "      <th>4</th>\n",
       "      <td>4538</td>\n",
       "      <td>全部卵异常 蜡样透明带 厚而致密 卵周无间隙</td>\n",
       "      <td>Abnormal zona pellucida morphology</td>\n",
       "      <td>无</td>\n",
       "      <td>无</td>\n",
       "      <td>9</td>\n",
       "      <td>无</td>\n",
       "      <td>7</td>\n",
       "      <td>HP:0020156</td>\n",
       "    </tr>\n",
       "    <tr>\n",
       "      <th>...</th>\n",
       "      <td>...</td>\n",
       "      <td>...</td>\n",
       "      <td>...</td>\n",
       "      <td>...</td>\n",
       "      <td>...</td>\n",
       "      <td>...</td>\n",
       "      <td>...</td>\n",
       "      <td>...</td>\n",
       "      <td>...</td>\n",
       "    </tr>\n",
       "    <tr>\n",
       "      <th>5414</th>\n",
       "      <td>6034</td>\n",
       "      <td>患者 手六趾</td>\n",
       "      <td>足多趾</td>\n",
       "      <td>无</td>\n",
       "      <td>无</td>\n",
       "      <td>9</td>\n",
       "      <td>无</td>\n",
       "      <td>5</td>\n",
       "      <td>HP:0001829</td>\n",
       "    </tr>\n",
       "    <tr>\n",
       "      <th>5415</th>\n",
       "      <td>6035</td>\n",
       "      <td>脚部多指</td>\n",
       "      <td>足多趾</td>\n",
       "      <td>无</td>\n",
       "      <td>无</td>\n",
       "      <td>9</td>\n",
       "      <td>无</td>\n",
       "      <td>5</td>\n",
       "      <td>HP:0001829</td>\n",
       "    </tr>\n",
       "    <tr>\n",
       "      <th>5416</th>\n",
       "      <td>6036</td>\n",
       "      <td>脚趾骨头复制</td>\n",
       "      <td>足多趾</td>\n",
       "      <td>无</td>\n",
       "      <td>无</td>\n",
       "      <td>9</td>\n",
       "      <td>无</td>\n",
       "      <td>5</td>\n",
       "      <td>HP:0001829</td>\n",
       "    </tr>\n",
       "    <tr>\n",
       "      <th>5417</th>\n",
       "      <td>6037</td>\n",
       "      <td>脑梗</td>\n",
       "      <td>卒中</td>\n",
       "      <td>无</td>\n",
       "      <td>无</td>\n",
       "      <td>9</td>\n",
       "      <td>无</td>\n",
       "      <td>2</td>\n",
       "      <td>HP:0001297</td>\n",
       "    </tr>\n",
       "    <tr>\n",
       "      <th>5418</th>\n",
       "      <td>6038</td>\n",
       "      <td>中风</td>\n",
       "      <td>卒中</td>\n",
       "      <td>无</td>\n",
       "      <td>无</td>\n",
       "      <td>9</td>\n",
       "      <td>无</td>\n",
       "      <td>2</td>\n",
       "      <td>HP:0001297</td>\n",
       "    </tr>\n",
       "  </tbody>\n",
       "</table>\n",
       "<p>4287 rows × 9 columns</p>\n",
       "</div>"
      ],
      "text/plain": [
       "      index                    x_cn                                y_cn tag  \\\n",
       "0      4534                   I型糖尿病                               1型糖尿病   无   \n",
       "1      4535                  青少年糖尿病                               1型糖尿病   无   \n",
       "2      4536                   一型糖尿病                               1型糖尿病   无   \n",
       "3      4537            胰岛素 - 依赖性糖尿病                               1型糖尿病   无   \n",
       "4      4538  全部卵异常 蜡样透明带 厚而致密 卵周无间隙  Abnormal zona pellucida morphology   无   \n",
       "...     ...                     ...                                 ...  ..   \n",
       "5414   6034                  患者 手六趾                                 足多趾   无   \n",
       "5415   6035                    脚部多指                                 足多趾   无   \n",
       "5416   6036                  脚趾骨头复制                                 足多趾   无   \n",
       "5417   6037                      脑梗                                  卒中   无   \n",
       "5418   6038                      中风                                  卒中   无   \n",
       "\n",
       "     tag_class check_group change  y_cn_count          HP  \n",
       "0            无           9      无           4  HP:0100651  \n",
       "1            无           9      无           4  HP:0100651  \n",
       "2            无           9      无           4  HP:0100651  \n",
       "3            无           9      无           4  HP:0100651  \n",
       "4            无           9      无           7  HP:0020156  \n",
       "...        ...         ...    ...         ...         ...  \n",
       "5414         无           9      无           5  HP:0001829  \n",
       "5415         无           9      无           5  HP:0001829  \n",
       "5416         无           9      无           5  HP:0001829  \n",
       "5417         无           9      无           2  HP:0001297  \n",
       "5418         无           9      无           2  HP:0001297  \n",
       "\n",
       "[4287 rows x 9 columns]"
      ]
     },
     "execution_count": 31,
     "metadata": {},
     "output_type": "execute_result"
    }
   ],
   "source": [
    "Df"
   ]
  },
  {
   "cell_type": "code",
   "execution_count": 30,
   "metadata": {},
   "outputs": [
    {
     "data": {
      "text/plain": [
       "0                                          [I, 型, 糖尿病]\n",
       "1                                           [青少年, 糖尿病]\n",
       "2                                            [一型, 糖尿病]\n",
       "3                             [胰岛素,  , -,  , 依赖性, 糖尿病]\n",
       "4    [全部, 卵, 异常,  , 蜡样, 透明, 带,  , 厚, 而, 致密,  , 卵周, ...\n",
       "Name: x_cn, dtype: object"
      ]
     },
     "execution_count": 30,
     "metadata": {},
     "output_type": "execute_result"
    }
   ],
   "source": [
    "# change number\n",
    "#Df['x_cn'] = Df['x_cn'].apply(lambda x : clean_text(x,lan='cn'))\n",
    "Df['x_cn'] = Df['x_cn'].apply(lambda x : change_number(x,'cn'))\n",
    "\n",
    "# define X,Y for model learning\n",
    "X, Y  = Df['x_cn'], Df['y_cn']\n",
    "x_cut = X.apply(lambda txt: list(jieba.cut(txt))) #jieba tokenization\n",
    "x_cut.head()"
   ]
  },
  {
   "cell_type": "code",
   "execution_count": 32,
   "metadata": {},
   "outputs": [
    {
     "data": {
      "text/plain": [
       "0                        I型糖尿病\n",
       "1                       青少年糖尿病\n",
       "2                        一型糖尿病\n",
       "3                 胰岛素 - 依赖性糖尿病\n",
       "4       全部卵异常 蜡样透明带 厚而致密 卵周无间隙\n",
       "                 ...          \n",
       "5414                    患者 手六趾\n",
       "5415                      脚部多指\n",
       "5416                    脚趾骨头复制\n",
       "5417                        脑梗\n",
       "5418                        中风\n",
       "Name: x_cn, Length: 4287, dtype: object"
      ]
     },
     "execution_count": 32,
     "metadata": {},
     "output_type": "execute_result"
    }
   ],
   "source": [
    "Df['x_cn']"
   ]
  },
  {
   "cell_type": "code",
   "execution_count": 33,
   "metadata": {},
   "outputs": [],
   "source": [
    "# Split data into train and test\n",
    "\n",
    "x_train, x_test, y_train, y_test = train_test_split(\n",
    "    x_cut, Y, test_size=0.20, random_state = 42)\n",
    "my_tags = pd.unique(y_test).tolist()\n",
    "\n",
    "#print('x_train shape:', x_train.shape, 'y_train shape:', y_train.shape, 'x_test shape:', x_test.shape, 'y_test shape:', y_test.shape)\n",
    "#print('levels of y_test :', len(pd.unique(y_test))) \n",
    "#print('levels of y_train :', len(pd.unique(y_train))) \n",
    "\n",
    "\n",
    "### Split data into dev (train + cv) and test\n",
    "#x_train, x_validate, x_test = np.split(x_cut.sample(frac=1), [int(.8*len(x_cut)), int(.9*len(x_cut))])\n",
    "#y_train, y_validate, y_test = np.split(Y.sample(frac=1), [int(.8*len(Y)), int(.9*len(Y))])\n",
    "#print('x_train shape:', x_train.shape, 'y_train shape:', y_train.shape, 'x_validate shape:', x_validate.shape, 'y_validate shape:', y_validate.shape,'x_test shape:', x_test.shape, 'y_test shape:', y_test.shape)"
   ]
  },
  {
   "cell_type": "code",
   "execution_count": 34,
   "metadata": {},
   "outputs": [
    {
     "name": "stdout",
     "output_type": "stream",
     "text": [
      "X_train shape: (3429, 2000) x_train shape: (3429,)\n",
      "X_test shape: (858, 2000) y_test shape: (858,)\n"
     ]
    }
   ],
   "source": [
    "from keras.preprocessing import text, sequence\n",
    "vocab_size  = 2000 \n",
    "tokenize = text.Tokenizer(num_words = vocab_size, char_level=False)\n",
    "\n",
    "tokenize.fit_on_texts(x_train) # only fit on train\n",
    "X_train = tokenize.texts_to_matrix(x_train, mode='tfidf')\n",
    "#X_validate  = tokenize.texts_to_matrix(x_validate, mode='tfidf')\n",
    "X_test  = tokenize.texts_to_matrix(x_test, mode='tfidf')\n",
    "\n",
    "print('X_train shape:', X_train.shape, 'x_train shape:', y_train.shape)\n",
    "#print('X_validate shape:', X_validate.shape, 'Y_validate shape:', y_validate.shape)\n",
    "print('X_test shape:', X_test.shape, 'y_test shape:', y_test.shape)\n",
    "\n",
    "with open('tokenizer_keras_cn_skl.pickle', 'wb') as handle:\n",
    "    pickle.dump(tokenize, handle, protocol=pickle.HIGHEST_PROTOCOL)"
   ]
  },
  {
   "cell_type": "code",
   "execution_count": null,
   "metadata": {},
   "outputs": [],
   "source": [
    "# Increase sample size (in our case do not change evaluation metrics)\n",
    "\n",
    "from imblearn.over_sampling import SMOTE, ADASYN\n",
    "smote = SMOTE('minority')\n",
    "\n",
    "X_sm, y_sm= smote.fit_resample(X_train, y_train)\n",
    "print('X_sm shape:', X_sm.shape, 'x_sm shape:', y_sm.shape)"
   ]
  },
  {
   "cell_type": "markdown",
   "metadata": {},
   "source": [
    "### Compare models"
   ]
  },
  {
   "cell_type": "code",
   "execution_count": null,
   "metadata": {},
   "outputs": [],
   "source": [
    "import numpy as np\n",
    "import matplotlib.pyplot as plt\n",
    "\n",
    "from sklearn.linear_model import Perceptron\n",
    "from sklearn.linear_model import PassiveAggressiveClassifier\n",
    "from matplotlib.colors import ListedColormap\n",
    "from sklearn.model_selection import train_test_split\n",
    "from sklearn.preprocessing import StandardScaler\n",
    "from sklearn.datasets import make_moons, make_circles, make_classification\n",
    "from sklearn.neural_network import MLPClassifier\n",
    "from sklearn.neighbors import KNeighborsClassifier\n",
    "from sklearn.svm import SVC\n",
    "from sklearn.gaussian_process import GaussianProcessClassifier\n",
    "from sklearn.gaussian_process.kernels import RBF\n",
    "from sklearn.tree import DecisionTreeClassifier\n",
    "from sklearn.ensemble import RandomForestClassifier, AdaBoostClassifier\n",
    "from sklearn.naive_bayes import GaussianNB\n",
    "from sklearn.discriminant_analysis import QuadraticDiscriminantAnalysis\n",
    "\n",
    "\n",
    "heldout = [0.95, 0.90, 0.75, 0.50, 0.01]\n",
    "rounds  = 20\n",
    "\n",
    "classifiers = [\n",
    "   #(\"SGD\", SGDClassifier(max_iter=100)), # 0.76\n",
    "   (\"ASGD\", SGDClassifier(average=True)), # 0.79\n",
    "   #(\"Perceptron\", Perceptron()), # 0.79\n",
    "   (\"Passive-Aggressive I\", PassiveAggressiveClassifier(loss='hinge', C=1.0, tol=1e-4)), # 0.83\n",
    "   #(\"Passive-Aggressive II\", PassiveAggressiveClassifier(loss='squared_hinge', C=1.0, tol=1e-4)), # 0.75\n",
    "   #(\"SAG\", LogisticRegression(solver='sag', tol=1e-1, C=1.e4 / X.shape[0])), # 0.77\n",
    "    \n",
    "    \n",
    "   #('NB', MultinomialNB()),                        # 0.71\n",
    "   #(\"Nearest Neighbors\", KNeighborsClassifier(3)), # 0.79\n",
    "    (\"Linear SVM\", SVC(kernel=\"linear\", C= 1)),  # 0.852\n",
    "   #('RBF SVM', SVC(gamma=2, C=1)),                 # 0.39\n",
    "   #('Gaussian Process', GaussianProcessClassifier(1.0 * RBF(1.0))),   \n",
    "   #('Random Forest', RandomForestClassifier(n_estimators=200, max_depth=3, random_state=0)),   # 0.33\n",
    "   #(\"Decision Tree\", DecisionTreeClassifier(max_depth=5)), # 0.51\n",
    "   (\"Neural Net\", MLPClassifier(alpha=1, max_iter=1000))  # 0.852\n",
    "   # (\"AdaBoost\", AdaBoostClassifier()), # 0.36\n",
    "   # (\"QDA\", QuadraticDiscriminantAnalysis()),      \n",
    "]\n",
    "\n",
    "xx = 1. - np.array(heldout)\n",
    "\n",
    "for name, clf in classifiers:\n",
    "    print(\"training %s\" % name)\n",
    "    rng = np.random.RandomState(42)\n",
    "    yy = []\n",
    "    for i in heldout:\n",
    "        yy_ = []\n",
    "        for r in range(rounds):\n",
    "            \n",
    "            x_train, x_test, y_train, y_test = \\\n",
    "            train_test_split(x_cut, Y, test_size=i, random_state=rng)\n",
    "            tokenize.fit_on_texts(x_train) # only fit on train\n",
    "            X_train = tokenize.texts_to_matrix(x_train, mode='tfidf')\n",
    "            X_test  = tokenize.texts_to_matrix(x_test, mode='tfidf')\n",
    "            \n",
    "            clf.fit(X_train, y_train)\n",
    "            y_pred = clf.predict(X_test)\n",
    "            yy_.append(1 - np.mean(y_pred == y_test))\n",
    "        yy.append(np.mean(yy_)) \n",
    "    plt.plot(xx, yy, label=name)\n",
    "    \n",
    "plt.legend(loc =\"upper right\")\n",
    "plt.xlabel(\"Proportion train\")\n",
    "plt.ylabel(\"Test Error Rate\")\n",
    "plt.show()"
   ]
  },
  {
   "cell_type": "code",
   "execution_count": null,
   "metadata": {},
   "outputs": [],
   "source": [
    "### Confusion Matrix\n",
    "\n",
    "import seaborn as sns\n",
    "\n",
    "conf_mat = metrics.confusion_matrix(y_test, pd.DataFrame(y_pred))\n",
    "fig, ax = plt.subplots(figsize=(6,6))\n",
    "sns.heatmap(conf_mat, annot=True, fmt='d',\n",
    "            xticklabels=y_test.drop_duplicates().values, yticklabels=y_test.drop_duplicates().values,\n",
    "            center=True)\n",
    "plt.ylabel('Actual')\n",
    "plt.xlabel('Predicted')\n",
    "plt.show()"
   ]
  },
  {
   "cell_type": "markdown",
   "metadata": {},
   "source": [
    "### Parameter grid for grid search"
   ]
  },
  {
   "cell_type": "code",
   "execution_count": null,
   "metadata": {},
   "outputs": [],
   "source": [
    "#MLPClassifier()\n",
    "#PassiveAggressiveClassifier()\n",
    "MLPClassifier() "
   ]
  },
  {
   "cell_type": "code",
   "execution_count": 44,
   "metadata": {},
   "outputs": [
    {
     "name": "stderr",
     "output_type": "stream",
     "text": [
      "C:\\Users\\Jingz\\anaconda3\\lib\\site-packages\\sklearn\\model_selection\\_split.py:667: UserWarning: The least populated class in y has only 1 members, which is less than n_splits=5.\n",
      "  % (min_groups, self.n_splits)), UserWarning)\n"
     ]
    },
    {
     "name": "stdout",
     "output_type": "stream",
     "text": [
      "Best estimator found by grid search:\n",
      "MLPClassifier(activation='relu', alpha=0.2, batch_size='auto', beta_1=0.9,\n",
      "              beta_2=0.999, early_stopping=False, epsilon=1e-08,\n",
      "              hidden_layer_sizes=(100,), learning_rate='constant',\n",
      "              learning_rate_init=0.001, max_fun=15000, max_iter=1000,\n",
      "              momentum=0.9, n_iter_no_change=10, nesterovs_momentum=True,\n",
      "              power_t=0.5, random_state=None, shuffle=True, solver='adam',\n",
      "              tol=0.0001, validation_fraction=0.1, verbose=False,\n",
      "              warm_start=False)\n"
     ]
    }
   ],
   "source": [
    "# search combination of all hyperparametres (alternatives : RandomizedSearchCV() )\n",
    "\n",
    "from sklearn.svm import SVC\n",
    "from sklearn.neural_network import MLPClassifier\n",
    "from sklearn.model_selection import GridSearchCV\n",
    "from sklearn.linear_model import PassiveAggressiveClassifier\n",
    "from sklearn.metrics import make_scorer\n",
    "\n",
    "#scoring= {'f1_sccore': 'f1_weighted', 'Accuracy': make_scorer(metrics.accuracy_score)}\n",
    "\n",
    "param_grid = [\n",
    "  #{'C': [ 0.005, 0.055, 0.08, 0.1, 1, 10], 'kernel': ['linear']},\n",
    "  {'alpha': [0.1, 0.2, 0.5, 1], 'max_iter': [1000]},  # for MLP\n",
    "  # {'C': [ 0.005, 0.015, 0.055, 0.1, 0.3, 0.6, 0.8, 1, 10], 'loss': ['hinge']},\n",
    " ]\n",
    "\n",
    "#clf = SVC()\n",
    "#clf = PassiveAggressiveClassifier()\n",
    "clf = MLPClassifier() \n",
    "search = GridSearchCV(clf, param_grid, cv=5, n_jobs=-1)\n",
    "search.fit(X_train, y_train)\n",
    "\n",
    "print(\"Best estimator found by grid search:\")\n",
    "print(search.best_estimator_)\n",
    "#print(search.score(X_validate, y_validate))"
   ]
  },
  {
   "cell_type": "markdown",
   "metadata": {},
   "source": [
    "### Fit models"
   ]
  },
  {
   "cell_type": "code",
   "execution_count": 8,
   "metadata": {},
   "outputs": [
    {
     "name": "stdout",
     "output_type": "stream",
     "text": [
      "accuracy 0.7354312354312355\n",
      "recall 0.7354312354312355\n",
      "precision 0.8262218060356815\n",
      "f1_sccore 0.7511894605395296\n"
     ]
    },
    {
     "name": "stderr",
     "output_type": "stream",
     "text": [
      "C:\\ProgramData\\Anaconda3\\lib\\site-packages\\sklearn\\metrics\\_classification.py:1221: UndefinedMetricWarning: Recall is ill-defined and being set to 0.0 in labels with no true samples. Use `zero_division` parameter to control this behavior.\n",
      "  _warn_prf(average, modifier, msg_start, len(result))\n",
      "C:\\ProgramData\\Anaconda3\\lib\\site-packages\\sklearn\\metrics\\_classification.py:1221: UndefinedMetricWarning: Precision is ill-defined and being set to 0.0 in labels with no predicted samples. Use `zero_division` parameter to control this behavior.\n",
      "  _warn_prf(average, modifier, msg_start, len(result))\n",
      "C:\\ProgramData\\Anaconda3\\lib\\site-packages\\sklearn\\metrics\\_classification.py:1221: UndefinedMetricWarning: Precision and F-score are ill-defined and being set to 0.0 in labels with no predicted samples. Use `zero_division` parameter to control this behavior.\n",
      "  _warn_prf(average, modifier, msg_start, len(result))\n",
      "C:\\ProgramData\\Anaconda3\\lib\\site-packages\\sklearn\\metrics\\_classification.py:1221: UndefinedMetricWarning: Recall and F-score are ill-defined and being set to 0.0 in labels with no true samples. Use `zero_division` parameter to control this behavior.\n",
      "  _warn_prf(average, modifier, msg_start, len(result))\n"
     ]
    }
   ],
   "source": [
    "from sklearn.svm import SVC\n",
    "\n",
    "# support vector machine\n",
    "svm = Pipeline([\n",
    "                ('clf', SVC(kernel=\"linear\", C = 0.055)),\n",
    "               ])\n",
    "# svm.fit(X_sm, y_sm)\n",
    "svm.fit(X_train, y_train)\n",
    "\n",
    "y_pred = svm.predict(X_test)\n",
    "my_tags = pd.unique(y_pred).tolist()\n",
    "    \n",
    "# result metrics\n",
    "print('accuracy %s' % metrics.accuracy_score(y_pred, y_test))   \n",
    "print('recall %s'   % metrics.recall_score(y_pred, y_test,  average='weighted'))      #, labels=np.unique(y_pred)   # tp / (tp + fn)\n",
    "print('precision %s' % metrics.precision_score(y_pred, y_test,  average='weighted'))   # tp / (tp + fp)\n",
    "print('f1_sccore %s' % metrics.f1_score(y_pred, y_test,  average='weighted'))          # 2*(precision * recall) / (precision + recall)\n",
    "\n",
    "\n",
    "# save metric results into excel\n",
    "data = pd.DataFrame(metrics.classification_report(y_test, y_pred, output_dict=True)).T\n",
    "#print(data)\n",
    "data.to_excel('training_rapport_svm.xlsx', header=True, index=True, encoding = 'ANSI')\n",
    "\n",
    "\n",
    "# save model\n",
    "with open('M_svm_classifier_cn.pickle', 'wb') as handle:\n",
    "    pickle.dump(svm, handle, protocol=pickle.HIGHEST_PROTOCOL)"
   ]
  },
  {
   "cell_type": "code",
   "execution_count": 9,
   "metadata": {},
   "outputs": [
    {
     "name": "stderr",
     "output_type": "stream",
     "text": [
      "C:\\ProgramData\\Anaconda3\\lib\\site-packages\\sklearn\\model_selection\\_split.py:670: UserWarning: The least populated class in y has only 1 members, which is less than n_splits=5.\n",
      "  warnings.warn((\"The least populated class in y has only %d\"\n",
      "C:\\ProgramData\\Anaconda3\\lib\\site-packages\\sklearn\\model_selection\\_split.py:670: UserWarning: The least populated class in y has only 1 members, which is less than n_splits=5.\n",
      "  warnings.warn((\"The least populated class in y has only %d\"\n"
     ]
    },
    {
     "name": "stdout",
     "output_type": "stream",
     "text": [
      "Accuracy: 0.73 (+/- 0.02)\n",
      "F1: 0.70 (+/- 0.03)\n"
     ]
    }
   ],
   "source": [
    "### cross validation\n",
    "\n",
    "from sklearn.svm import SVC\n",
    "from sklearn.model_selection import cross_val_score\n",
    "\n",
    "clf = SVC(kernel=\"linear\", C = 0.055)\n",
    "#clf = MLPClassifier(alpha=0.02, max_iter=1000)\n",
    "\n",
    "scores_a = cross_val_score(clf, X_train, y_train, cv=5, scoring='accuracy')\n",
    "scores_f1 = cross_val_score(clf, X_train, y_train, cv=5, scoring='f1_weighted')\n",
    "\n",
    "print(\"Accuracy: %0.2f (+/- %0.2f)\" % (scores_a.mean(), scores_a.std() * 2))\n",
    "print(\"F1: %0.2f (+/- %0.2f)\" % (scores_f1.mean(), scores_f1.std() * 2))"
   ]
  },
  {
   "cell_type": "markdown",
   "metadata": {},
   "source": [
    "### Other models"
   ]
  },
  {
   "cell_type": "code",
   "execution_count": 10,
   "metadata": {},
   "outputs": [
    {
     "name": "stdout",
     "output_type": "stream",
     "text": [
      "accuracy 0.7424242424242424\n",
      "recall 0.7424242424242424\n",
      "precision 0.7816016229852364\n",
      "f1_sccore 0.7457115512389201\n",
      "accuracy 0.7424242424242424\n",
      "                                    precision    recall  f1-score     support\n",
      "Abnormal zona pellucida morphology   1.000000  1.000000  1.000000    1.000000\n",
      "Cervical neoplasm                    1.000000  0.500000  0.666667    2.000000\n",
      "DNA修复异常                              1.000000  1.000000  1.000000    1.000000\n",
      "Hydatidiform mole                    1.000000  1.000000  1.000000    1.000000\n",
      "Labial melanotic macule              0.500000  1.000000  0.666667    1.000000\n",
      "...                                       ...       ...       ...         ...\n",
      "黄体生成素水平升高                            1.000000  1.000000  1.000000    2.000000\n",
      "鼻咽部赘生瘤                               1.000000  1.000000  1.000000    2.000000\n",
      "accuracy                             0.742424  0.742424  0.742424    0.742424\n",
      "macro avg                            0.577877  0.567950  0.557653  858.000000\n",
      "weighted avg                         0.764208  0.742424  0.739137  858.000000\n",
      "\n",
      "[312 rows x 4 columns]\n"
     ]
    },
    {
     "name": "stderr",
     "output_type": "stream",
     "text": [
      "C:\\ProgramData\\Anaconda3\\lib\\site-packages\\sklearn\\metrics\\_classification.py:1221: UndefinedMetricWarning: Recall is ill-defined and being set to 0.0 in labels with no true samples. Use `zero_division` parameter to control this behavior.\n",
      "  _warn_prf(average, modifier, msg_start, len(result))\n",
      "C:\\ProgramData\\Anaconda3\\lib\\site-packages\\sklearn\\metrics\\_classification.py:1221: UndefinedMetricWarning: Precision is ill-defined and being set to 0.0 in labels with no predicted samples. Use `zero_division` parameter to control this behavior.\n",
      "  _warn_prf(average, modifier, msg_start, len(result))\n",
      "C:\\ProgramData\\Anaconda3\\lib\\site-packages\\sklearn\\metrics\\_classification.py:1221: UndefinedMetricWarning: Precision and F-score are ill-defined and being set to 0.0 in labels with no predicted samples. Use `zero_division` parameter to control this behavior.\n",
      "  _warn_prf(average, modifier, msg_start, len(result))\n",
      "C:\\ProgramData\\Anaconda3\\lib\\site-packages\\sklearn\\metrics\\_classification.py:1221: UndefinedMetricWarning: Recall and F-score are ill-defined and being set to 0.0 in labels with no true samples. Use `zero_division` parameter to control this behavior.\n",
      "  _warn_prf(average, modifier, msg_start, len(result))\n"
     ]
    }
   ],
   "source": [
    "from sklearn.neural_network import MLPClassifier\n",
    "\n",
    "\n",
    "# Passive-Aggressive I\n",
    "mlp = Pipeline([\n",
    "                ('clf', MLPClassifier(alpha=0.02, max_iter=1000)),\n",
    "               ])\n",
    "mlp.fit(X_train, y_train)\n",
    "\n",
    "y_pred = mlp.predict(X_test)\n",
    "my_tags = pd.unique(y_pred).tolist()\n",
    "\n",
    "\n",
    "# result metrics\n",
    "print('accuracy %s' % metrics.accuracy_score(y_pred, y_test))   \n",
    "print('recall %s'   % metrics.recall_score(y_pred, y_test,  average='weighted'))      #, labels=np.unique(y_pred)   # tp / (tp + fn)\n",
    "print('precision %s' % metrics.precision_score(y_pred, y_test,  average='weighted'))   # tp / (tp + fp)\n",
    "print('f1_sccore %s' % metrics.f1_score(y_pred, y_test,  average='weighted'))          # 2*(precision * recall) / (precision + recall)\n",
    "\n",
    "\n",
    "# save metric results into excel\n",
    "print('accuracy %s' %  metrics.accuracy_score(y_pred, y_test))\n",
    "data = pd.DataFrame( metrics.classification_report(y_test, y_pred, output_dict=True)).T\n",
    "print(data)\n",
    "data.to_excel('training_rapport_mlp.xlsx', header=True, index=True, encoding = 'ANSI')\n",
    "\n",
    "\n",
    "# save model\n",
    "with open('M_mlp_classifier_cn.pickle', 'wb') as handle:\n",
    "    pickle.dump(mlp, handle, protocol=pickle.HIGHEST_PROTOCOL)  "
   ]
  },
  {
   "cell_type": "code",
   "execution_count": 51,
   "metadata": {},
   "outputs": [
    {
     "name": "stderr",
     "output_type": "stream",
     "text": [
      "C:\\Users\\Jingz\\anaconda3\\lib\\site-packages\\sklearn\\model_selection\\_split.py:667: UserWarning: The least populated class in y has only 1 members, which is less than n_splits=5.\n",
      "  % (min_groups, self.n_splits)), UserWarning)\n",
      "C:\\Users\\Jingz\\anaconda3\\lib\\site-packages\\sklearn\\model_selection\\_split.py:667: UserWarning: The least populated class in y has only 1 members, which is less than n_splits=5.\n",
      "  % (min_groups, self.n_splits)), UserWarning)\n"
     ]
    },
    {
     "name": "stdout",
     "output_type": "stream",
     "text": [
      "Accuracy: 0.74 (+/- 0.04)\n",
      "F1: 0.71 (+/- 0.03)\n"
     ]
    }
   ],
   "source": [
    "### cross validation\n",
    "\n",
    "from sklearn.svm import SVC\n",
    "from sklearn.model_selection import cross_val_score\n",
    "\n",
    "#clf = SVC(kernel=\"linear\", C = 0.055)\n",
    "clf = MLPClassifier(alpha=0.02, max_iter=1000)\n",
    "\n",
    "scores_a = cross_val_score(clf, X_train, y_train, cv=5, scoring='accuracy')\n",
    "scores_f1 = cross_val_score(clf, X_train, y_train, cv=5, scoring='f1_weighted')\n",
    "\n",
    "print(\"Accuracy: %0.2f (+/- %0.2f)\" % (scores_a.mean(), scores_a.std() * 2))\n",
    "print(\"F1: %0.2f (+/- %0.2f)\" % (scores_f1.mean(), scores_f1.std() * 2))"
   ]
  },
  {
   "cell_type": "code",
   "execution_count": 9,
   "metadata": {},
   "outputs": [
    {
     "name": "stdout",
     "output_type": "stream",
     "text": [
      "accuracy 0.7284382284382285\n",
      "recall 0.7284382284382285\n",
      "precision 0.7917765384865023\n",
      "f1_sccore 0.7421631435631992\n",
      "accuracy 0.7284382284382285\n",
      "                                    precision    recall  f1-score     support\n",
      "Abnormal zona pellucida morphology   1.000000  1.000000  1.000000    1.000000\n",
      "Cervical neoplasm                    0.500000  0.500000  0.500000    2.000000\n",
      "DNA修复异常                              1.000000  1.000000  1.000000    1.000000\n",
      "Hydatidiform mole                    0.500000  1.000000  0.666667    1.000000\n",
      "Labial melanotic macule              1.000000  1.000000  1.000000    1.000000\n",
      "...                                       ...       ...       ...         ...\n",
      "黄体生成素水平升高                            1.000000  1.000000  1.000000    2.000000\n",
      "鼻咽部赘生瘤                               1.000000  1.000000  1.000000    2.000000\n",
      "accuracy                             0.728438  0.728438  0.728438    0.728438\n",
      "macro avg                            0.560512  0.555662  0.543493  858.000000\n",
      "weighted avg                         0.732926  0.728438  0.714713  858.000000\n",
      "\n",
      "[315 rows x 4 columns]\n"
     ]
    },
    {
     "name": "stderr",
     "output_type": "stream",
     "text": [
      "C:\\Users\\Jingz\\anaconda3\\lib\\site-packages\\sklearn\\metrics\\_classification.py:1272: UndefinedMetricWarning: Recall is ill-defined and being set to 0.0 in labels with no true samples. Use `zero_division` parameter to control this behavior.\n",
      "  _warn_prf(average, modifier, msg_start, len(result))\n",
      "C:\\Users\\Jingz\\anaconda3\\lib\\site-packages\\sklearn\\metrics\\_classification.py:1272: UndefinedMetricWarning: Precision is ill-defined and being set to 0.0 in labels with no predicted samples. Use `zero_division` parameter to control this behavior.\n",
      "  _warn_prf(average, modifier, msg_start, len(result))\n",
      "C:\\Users\\Jingz\\anaconda3\\lib\\site-packages\\sklearn\\metrics\\_classification.py:1272: UndefinedMetricWarning: Precision and F-score are ill-defined and being set to 0.0 in labels with no predicted samples. Use `zero_division` parameter to control this behavior.\n",
      "  _warn_prf(average, modifier, msg_start, len(result))\n",
      "C:\\Users\\Jingz\\anaconda3\\lib\\site-packages\\sklearn\\metrics\\_classification.py:1272: UndefinedMetricWarning: Recall and F-score are ill-defined and being set to 0.0 in labels with no true samples. Use `zero_division` parameter to control this behavior.\n",
      "  _warn_prf(average, modifier, msg_start, len(result))\n"
     ]
    }
   ],
   "source": [
    "from sklearn.linear_model import PassiveAggressiveClassifier\n",
    "\n",
    "\n",
    "# Passive-Aggressive I\n",
    "pac1 = Pipeline([\n",
    "                ('clf', PassiveAggressiveClassifier(loss='hinge', C=0.005, tol=1e-4)),\n",
    "               ])\n",
    "pac1.fit(X_train, y_train)\n",
    "\n",
    "y_pred = pac1.predict(X_test)\n",
    "my_tags = pd.unique(y_pred).tolist()\n",
    "\n",
    "\n",
    "# result metrics\n",
    "print('accuracy %s' % metrics.accuracy_score(y_pred, y_test))   \n",
    "print('recall %s'   % metrics.recall_score(y_pred, y_test,  average='weighted'))      #, labels=np.unique(y_pred)   # tp / (tp + fn)\n",
    "print('precision %s' % metrics.precision_score(y_pred, y_test,  average='weighted'))   # tp / (tp + fp)\n",
    "print('f1_sccore %s' % metrics.f1_score(y_pred, y_test,  average='weighted'))          # 2*(precision * recall) / (precision + recall)\n",
    "\n",
    "\n",
    "# save metric results into excel\n",
    "print('accuracy %s' %  metrics.accuracy_score(y_pred, y_test))\n",
    "data = pd.DataFrame( metrics.classification_report(y_test, y_pred, output_dict=True)).T\n",
    "print(data)\n",
    "data.to_excel('training_rapport_pac1.xlsx', header=True, index=True, encoding = 'ANSI')\n",
    "\n",
    "\n",
    "# save model\n",
    "with open('M_pac1_classifier_cn.pickle', 'wb') as handle:\n",
    "    pickle.dump(pac1, handle, protocol=pickle.HIGHEST_PROTOCOL)  "
   ]
  },
  {
   "cell_type": "code",
   "execution_count": 10,
   "metadata": {},
   "outputs": [
    {
     "name": "stdout",
     "output_type": "stream",
     "text": [
      "accuracy 0.6526806526806527\n",
      "recall 0.6526806526806527\n",
      "precision 0.7987976191293704\n",
      "f1_sccore 0.617520895519325\n",
      "                                    precision    recall  f1-score     support\n",
      "Abnormal zona pellucida morphology   1.000000  1.000000  1.000000    1.000000\n",
      "Cervical neoplasm                    0.000000  0.000000  0.000000    2.000000\n",
      "DNA修复异常                              0.000000  0.000000  0.000000    1.000000\n",
      "Hydatidiform mole                    1.000000  1.000000  1.000000    1.000000\n",
      "Labial melanotic macule              1.000000  1.000000  1.000000    1.000000\n",
      "...                                       ...       ...       ...         ...\n",
      "黄体生成素水平升高                            1.000000  1.000000  1.000000    2.000000\n",
      "鼻咽部赘生瘤                               1.000000  1.000000  1.000000    2.000000\n",
      "accuracy                             0.652681  0.652681  0.652681    0.652681\n",
      "macro avg                            0.535613  0.505094  0.505798  858.000000\n",
      "weighted avg                         0.758481  0.652681  0.687840  858.000000\n",
      "\n",
      "[306 rows x 4 columns]\n"
     ]
    },
    {
     "name": "stderr",
     "output_type": "stream",
     "text": [
      "C:\\Users\\Jingz\\anaconda3\\lib\\site-packages\\sklearn\\metrics\\_classification.py:1272: UndefinedMetricWarning: Recall is ill-defined and being set to 0.0 in labels with no true samples. Use `zero_division` parameter to control this behavior.\n",
      "  _warn_prf(average, modifier, msg_start, len(result))\n",
      "C:\\Users\\Jingz\\anaconda3\\lib\\site-packages\\sklearn\\metrics\\_classification.py:1272: UndefinedMetricWarning: Precision is ill-defined and being set to 0.0 in labels with no predicted samples. Use `zero_division` parameter to control this behavior.\n",
      "  _warn_prf(average, modifier, msg_start, len(result))\n",
      "C:\\Users\\Jingz\\anaconda3\\lib\\site-packages\\sklearn\\metrics\\_classification.py:1272: UndefinedMetricWarning: Precision and F-score are ill-defined and being set to 0.0 in labels with no predicted samples. Use `zero_division` parameter to control this behavior.\n",
      "  _warn_prf(average, modifier, msg_start, len(result))\n",
      "C:\\Users\\Jingz\\anaconda3\\lib\\site-packages\\sklearn\\metrics\\_classification.py:1272: UndefinedMetricWarning: Recall and F-score are ill-defined and being set to 0.0 in labels with no true samples. Use `zero_division` parameter to control this behavior.\n",
      "  _warn_prf(average, modifier, msg_start, len(result))\n"
     ]
    }
   ],
   "source": [
    "### (soft-margin) Linear Support Vector Machine\n",
    "sgd = Pipeline([\n",
    "                ('clf', SGDClassifier(loss='hinge', penalty='l2',alpha=1e-3, random_state=42, max_iter=100, tol=None)),\n",
    "               ])\n",
    "sgd.fit(X_train, y_train)\n",
    "\n",
    "y_pred = sgd.predict(X_test)\n",
    "my_tags = pd.unique(y_pred).tolist()\n",
    "\n",
    "\n",
    "# result metrics\n",
    "print('accuracy %s' % metrics.accuracy_score(y_pred, y_test))   \n",
    "print('recall %s'   % metrics.recall_score(y_pred, y_test,  average='weighted'))      #, labels=np.unique(y_pred)   # tp / (tp + fn)\n",
    "print('precision %s' % metrics.precision_score(y_pred, y_test,  average='weighted'))   # tp / (tp + fp)\n",
    "print('f1_sccore %s' % metrics.f1_score(y_pred, y_test,  average='weighted'))          # 2*(precision * recall) / (precision + recall)\n",
    "\n",
    "\n",
    "# save metric results into excel\n",
    "data = pd.DataFrame(metrics.classification_report(y_test, y_pred, output_dict=True)).T\n",
    "print(data)\n",
    "data.to_excel('training_rapport_sgd.xlsx', header=True, index=True, encoding = 'ANSI')\n",
    "\n",
    "### save model\n",
    "with open('M_sgd_classifier_cn.pickle', 'wb') as handle:\n",
    "    pickle.dump(sgd, handle, protocol=pickle.HIGHEST_PROTOCOL)"
   ]
  },
  {
   "cell_type": "markdown",
   "metadata": {},
   "source": [
    "### Load pretrained model and predict"
   ]
  },
  {
   "cell_type": "code",
   "execution_count": 27,
   "metadata": {},
   "outputs": [
    {
     "name": "stdout",
     "output_type": "stream",
     "text": [
      "112 Predicted_class: 染色体断裂 ; Real_class: 染色体断裂\n"
     ]
    }
   ],
   "source": [
    "with open('tokenizer_keras_cn_skl.pickle', 'rb') as handle:\n",
    "    loaded_tokenizer = pickle.load(handle)\n",
    "with open('M_svm_Classifier_cn.pickle', 'rb') as handle:\n",
    "    skl= pickle.load(handle)\n",
    "    \n",
    "y_pred = skl.predict(X_test)\n",
    "i=random.randint(1, len(X_test))\n",
    "print(i, 'Predicted_class:', y_pred[i], '; Real_class:', y_test.iloc[i])\n",
    "\n",
    "#y_pred = logreg.predict(x_test)\n",
    "#print(i, 'Predicted_class:', y_pred[i], '; Real_class:', y_test.iloc[i])"
   ]
  }
 ],
 "metadata": {
  "kernelspec": {
   "display_name": "Python 3",
   "language": "python",
   "name": "python3"
  },
  "language_info": {
   "codemirror_mode": {
    "name": "ipython",
    "version": 3
   },
   "file_extension": ".py",
   "mimetype": "text/x-python",
   "name": "python",
   "nbconvert_exporter": "python",
   "pygments_lexer": "ipython3",
   "version": "3.8.3"
  }
 },
 "nbformat": 4,
 "nbformat_minor": 4
}
