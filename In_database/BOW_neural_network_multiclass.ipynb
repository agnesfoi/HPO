
  {
   "cell_type": "code",
   "execution_count": 1,
   "metadata": {},
   "outputs": [],
   "source": [
    "import tensorflow as tf\n",
    "import pickle\n",
    "import os\n",
    "import nltk\n",
    "#nltk.download()\n",
    "\n",
    "os.chdir('C://Users/Jingz/OneDrive/CarrierGene/2019.07.10-HPO (done)/NLP_for_onedrive')\n",
    "from NLP_function import *\n",
    "os.chdir('C://Users/Jingz/OneDrive/CarrierGene/2019.07.10-HPO (done)/NLP_for_onedrive/In_Database')"
   ]
  },
  {
   "cell_type": "markdown",
   "metadata": {},
   "source": [
    "# Import "
   ]
  },
  {
   "cell_type": "code",
   "execution_count": 3,
   "metadata": {},
   "outputs": [],
   "source": [
    "hpo = pd.read_csv('C:/Users/Jingz/OneDrive/CarrierGene/2019.07.10-HPO (done)/hpo_import_python/Hpo_cn_clean.csv')\n",
    "hpo['name'] = hpo['name'].apply(lambda x : x.lower())"
   ]
  },
  {
   "cell_type": "markdown",
   "metadata": {},
   "source": [
    "#  Bag Of Words"
   ]
  },
  {
   "cell_type": "markdown",
   "metadata": {},
   "source": [
    "### Load and clean"
   ]
  },
  {
   "cell_type": "code",
   "execution_count": null,
   "metadata": {},
   "outputs": [],
   "source": [
    "X,Y = read_dataset('C:/Users/Jingz/OneDrive/CarrierGene/2019.07.10-HPO (done)/NLP_for_onedrive/cli.tokenizing_jy_train.csv', index=102, lan='en')"
   ]
  },
  {
   "cell_type": "code",
   "execution_count": 9,
   "metadata": {},
   "outputs": [
    {
     "name": "stdout",
     "output_type": "stream",
     "text": [
      "number of sample  672\n",
      "17 levels\n",
      "Y_onehot shape  (672, 17)\n"
     ]
    }
   ],
   "source": [
    "Y_onehot, num_classes, lables = onehot(Y) # One-hot Encoding\n",
    "print(lables)"
   ]
  },
  {
   "cell_type": "code",
   "execution_count": null,
   "metadata": {},
   "outputs": [],
   "source": [
    "lables['id'] = np.empty((len(lables), 0)).tolist()\n",
    "for i in range(0, len(lables)):\n",
    "    term = lables['y_lables'][i]\n",
    "    print(term)\n",
    "    if not term in hpo['name']: \n",
    "        print('found, will search')\n",
    "       # print(hpo[hpo.name==term]['id'].values[0])"
   ]
  },
  {
   "cell_type": "code",
   "execution_count": 78,
   "metadata": {},
   "outputs": [],
   "source": [
    "lables['y_id'] = hpo['id'][0:len(lables)] # need to delete!!\n",
    "# lables['name + 'name_cn']  # to add (hp:00001, name, name_cn)\n",
    "lables.to_csv('lables.csv', header=True, index=False, encoding=\"ANSI\")"
   ]
  },
  {
   "cell_type": "markdown",
   "metadata": {},
   "source": [
    "### Split data"
   ]
  },
  {
   "cell_type": "code",
   "execution_count": 43,
   "metadata": {},
   "outputs": [
    {
     "name": "stdout",
     "output_type": "stream",
     "text": [
      "x_train shape: (450,) Y_train shape: (450, 17) x_test shape: (222,) Y_test shape: (222, 17)\n"
     ]
    }
   ],
   "source": [
    "from sklearn.model_selection import train_test_split\n",
    "\n",
    "x_train, x_test, Y_train, Y_test = train_test_split(\n",
    "    X, Y_onehot, test_size=0.33, random_state=0)\n",
    "#print(x_train, Y_train)\n",
    "print('x_train shape:', x_train.shape, 'Y_train shape:', Y_train.shape, 'x_test shape:', x_test.shape, 'Y_test shape:', Y_test.shape)"
   ]
  },
  {
   "cell_type": "markdown",
   "metadata": {},
   "source": [
    "### X : BOW"
   ]
  },
  {
   "cell_type": "code",
   "execution_count": 51,
   "metadata": {},
   "outputs": [
    {
     "name": "stdout",
     "output_type": "stream",
     "text": [
      "X_train shape: (450, 1000) Y_train shape: (450, 17) X_test shape: (222, 1000) Y_test shape: (222, 17)\n"
     ]
    }
   ],
   "source": [
    "from keras.preprocessing import text, sequence\n",
    "vocab_size  = 1000 \n",
    "tokenize = text.Tokenizer(num_words = vocab_size, char_level=False)\n",
    "\n",
    "# need add stemm, punctuation, lower case etc.\n",
    "\n",
    "tokenize.fit_on_texts(x_train) # only fit on train\n",
    "X_train = tokenize.texts_to_matrix(x_train, mode='tfidf')\n",
    "X_test  = tokenize.texts_to_matrix(x_test, mode='tfidf')\n",
    "\n",
    "print('X_train shape:', X_train.shape, 'Y_train shape:', Y_train.shape, 'X_test shape:', X_test.shape, 'Y_test shape:', Y_test.shape)"
   ]
  },
  {
   "cell_type": "code",
   "execution_count": 33,
   "metadata": {},
   "outputs": [],
   "source": [
    "# save tokenizer\n",
    "with open('tokenizer_keras.pickle', 'wb') as handle:\n",
    "    pickle.dump(tokenize, handle, protocol=pickle.HIGHEST_PROTOCOL)  "
   ]
  },
  {
   "cell_type": "markdown",
   "metadata": {},
   "source": [
    "# Keras Sequential Models"
   ]
  },
  {
   "cell_type": "code",
   "execution_count": 26,
   "metadata": {},
   "outputs": [
    {
     "name": "stdout",
     "output_type": "stream",
     "text": [
      "Model: \"sequential_3\"\n",
      "_________________________________________________________________\n",
      "Layer (type)                 Output Shape              Param #   \n",
      "=================================================================\n",
      "dense_5 (Dense)              (None, 100)               100100    \n",
      "_________________________________________________________________\n",
      "dropout_3 (Dropout)          (None, 100)               0         \n",
      "_________________________________________________________________\n",
      "dense_6 (Dense)              (None, 17)                1717      \n",
      "=================================================================\n",
      "Total params: 101,817\n",
      "Trainable params: 101,817\n",
      "Non-trainable params: 0\n",
      "_________________________________________________________________\n",
      "None\n"
     ]
    }
   ],
   "source": [
    "from keras.models import Sequential\n",
    "from keras import layers\n",
    "from keras.layers import Dense, Activation, Dropout\n",
    "\n",
    "# Build the model\n",
    "model = Sequential()\n",
    "model.add(Dense(100, input_shape=(vocab_size,), activation='relu')) # first hidden layer has 100 nodes, use relu activation\n",
    "model.add(Dropout(0.5))\n",
    "model.add(Dense(num_classes, activation='sigmoid'))  # second hidden layer has num_classes nodes, use sigmoid activation\n",
    "# sigmoid for binary classification, or softmax for multi-class classification.\n",
    "model.compile(loss='categorical_crossentropy', # \n",
    "              optimizer='adam', # gradient descent\n",
    "              metrics=['accuracy']) # Compile Keras Model\n",
    "print(model.summary())"
   ]
  },
  {
   "cell_type": "code",
   "execution_count": 27,
   "metadata": {},
   "outputs": [
    {
     "name": "stdout",
     "output_type": "stream",
     "text": [
      "Train on 450 samples, validate on 222 samples\n",
      "Epoch 1/20\n",
      "450/450 [==============================] - 0s 550us/step - loss: 2.6028 - acc: 0.3311 - val_loss: 2.3049 - val_acc: 0.6486\n",
      "Epoch 2/20\n",
      "450/450 [==============================] - 0s 124us/step - loss: 2.0530 - acc: 0.6822 - val_loss: 1.6587 - val_acc: 0.6306\n",
      "Epoch 3/20\n",
      "450/450 [==============================] - 0s 124us/step - loss: 1.4101 - acc: 0.6800 - val_loss: 0.9878 - val_acc: 0.7027\n",
      "Epoch 4/20\n",
      "450/450 [==============================] - 0s 115us/step - loss: 0.8666 - acc: 0.7800 - val_loss: 0.5888 - val_acc: 0.9054\n",
      "Epoch 5/20\n",
      "450/450 [==============================] - 0s 120us/step - loss: 0.5654 - acc: 0.8933 - val_loss: 0.4046 - val_acc: 0.9369\n",
      "Epoch 6/20\n",
      "450/450 [==============================] - 0s 117us/step - loss: 0.3813 - acc: 0.9222 - val_loss: 0.3147 - val_acc: 0.9640\n",
      "Epoch 7/20\n",
      "450/450 [==============================] - 0s 129us/step - loss: 0.2893 - acc: 0.9556 - val_loss: 0.2607 - val_acc: 0.9595\n",
      "Epoch 8/20\n",
      "450/450 [==============================] - 0s 120us/step - loss: 0.2155 - acc: 0.9711 - val_loss: 0.2295 - val_acc: 0.9685\n",
      "Epoch 9/20\n",
      "450/450 [==============================] - 0s 124us/step - loss: 0.1951 - acc: 0.9711 - val_loss: 0.2058 - val_acc: 0.9685\n",
      "Epoch 10/20\n",
      "450/450 [==============================] - 0s 122us/step - loss: 0.1643 - acc: 0.9711 - val_loss: 0.1902 - val_acc: 0.9685\n",
      "Epoch 11/20\n",
      "450/450 [==============================] - 0s 126us/step - loss: 0.1298 - acc: 0.9822 - val_loss: 0.1782 - val_acc: 0.9730\n",
      "Epoch 12/20\n",
      "450/450 [==============================] - 0s 124us/step - loss: 0.1232 - acc: 0.9778 - val_loss: 0.1721 - val_acc: 0.9730\n",
      "Epoch 13/20\n",
      "450/450 [==============================] - 0s 126us/step - loss: 0.1060 - acc: 0.9733 - val_loss: 0.1661 - val_acc: 0.9730\n",
      "Epoch 14/20\n",
      "450/450 [==============================] - 0s 122us/step - loss: 0.1033 - acc: 0.9822 - val_loss: 0.1606 - val_acc: 0.9685\n",
      "Epoch 15/20\n",
      "450/450 [==============================] - 0s 126us/step - loss: 0.0799 - acc: 0.9911 - val_loss: 0.1537 - val_acc: 0.9685\n",
      "Epoch 16/20\n",
      "450/450 [==============================] - 0s 120us/step - loss: 0.0816 - acc: 0.9844 - val_loss: 0.1507 - val_acc: 0.9550\n",
      "Epoch 17/20\n",
      "450/450 [==============================] - 0s 129us/step - loss: 0.0759 - acc: 0.9800 - val_loss: 0.1466 - val_acc: 0.9685\n",
      "Epoch 18/20\n",
      "450/450 [==============================] - 0s 129us/step - loss: 0.0739 - acc: 0.9844 - val_loss: 0.1473 - val_acc: 0.9550\n",
      "Epoch 19/20\n",
      "450/450 [==============================] - 0s 164us/step - loss: 0.0662 - acc: 0.9889 - val_loss: 0.1435 - val_acc: 0.9550\n",
      "Epoch 20/20\n",
      "450/450 [==============================] - 0s 124us/step - loss: 0.0678 - acc: 0.9844 - val_loss: 0.1434 - val_acc: 0.9550\n",
      "Training Accuracy: 0.9889\n",
      "Testing Accuracy:  0.9550\n"
     ]
    },
    {
     "data": {
      "image/png": "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\n",
      "text/plain": [
       "<Figure size 864x360 with 2 Axes>"
      ]
     },
     "metadata": {},
     "output_type": "display_data"
    }
   ],
   "source": [
    "history = model.fit(X_train, Y_train,\n",
    "                    epochs=20,        # One pass through all of the rows in the training dataset\n",
    "                    verbose=1,   \n",
    "                    validation_data=(X_test, Y_test),\n",
    "                    batch_size=10)    # One or more samples considered by the model within an epoch before weights are updated\n",
    "\n",
    "loss, accuracy = model.evaluate(X_train, Y_train, verbose=False)\n",
    "print(\"Training Accuracy: {:.4f}\".format(accuracy))\n",
    "loss, accuracy = model.evaluate(X_test, Y_test, verbose=False)\n",
    "print(\"Testing Accuracy:  {:.4f}\".format(accuracy))\n",
    "plot_history(history)"
   ]
  },
  {
   "cell_type": "code",
   "execution_count": null,
   "metadata": {},
   "outputs": [],
   "source": [
    "# Here's how to generate a prediction on individual examples\n",
    "\n",
    "labels = encoder_lab.categories_\n",
    "#labels = encoder_lab.classes_\n",
    "\n",
    "for i in range(10):\n",
    "    prediction = model.predict(np.array([X_test[i]]))\n",
    "    predicted_label = pd.DataFrame(labels)[np.argmax(prediction)]\n",
    "    print('Actual label   :', Y_test[i])\n",
    "    print('Predicted label:', Y_test[i])\n",
    "    print(\"Predicted label: \", predicted_label,\"\\n\")"
   ]
  },
  {
   "cell_type": "markdown",
   "metadata": {},
   "source": [
    "##### save model"
   ]
  },
  {
   "cell_type": "code",
   "execution_count": 28,
   "metadata": {},
   "outputs": [
    {
     "name": "stdout",
     "output_type": "stream",
     "text": [
      "Saved model to disk\n"
     ]
    }
   ],
   "source": [
    "os.chdir('C://Users/Jingz/OneDrive/CarrierGene/2019.07.10-HPO (done)/NLP_for_onedrive')\n",
    "\n",
    "# save model and architecture to single file\n",
    "model.save(\"M_BOW_NeuralNetwork.h5\")\n",
    "print(\"Saved model to disk\")"
   ]
  },
  {
   "cell_type": "markdown",
   "metadata": {},
   "source": [
    "# Prediction"
   ]
  },
  {
   "cell_type": "code",
   "execution_count": 35,
   "metadata": {},
   "outputs": [
    {
     "name": "stdout",
     "output_type": "stream",
     "text": [
      "Load model...\n",
      "Model: \"sequential_3\"\n",
      "_________________________________________________________________\n",
      "Layer (type)                 Output Shape              Param #   \n",
      "=================================================================\n",
      "dense_5 (Dense)              (None, 100)               100100    \n",
      "_________________________________________________________________\n",
      "dropout_3 (Dropout)          (None, 100)               0         \n",
      "_________________________________________________________________\n",
      "dense_6 (Dense)              (None, 17)                1717      \n",
      "=================================================================\n",
      "Total params: 101,817\n",
      "Trainable params: 101,817\n",
      "Non-trainable params: 0\n",
      "_________________________________________________________________\n"
     ]
    }
   ],
   "source": [
    "# load model and tokenizer\n",
    "loaded_model = tf.keras.models.load_model('M_BOW_NeuralNetwork.h5') # or Conv1D_model.h5\n",
    "print('Load model...')\n",
    "model.summary()\n",
    "\n",
    "with open('tokenizer_keras.pickle', 'rb') as handle:\n",
    "    loaded_tokenizer = pickle.load(handle)"
   ]
  },
  {
   "cell_type": "code",
   "execution_count": 91,
   "metadata": {},
   "outputs": [
    {
     "name": "stdout",
     "output_type": "stream",
     "text": [
      "less fine. Real class is: atretic vas deferens\n",
      "less fine. predicted as class [7]\n",
      "lables :    y_id              y_lables\n",
      "7     7  atretic vas deferens\n"
     ]
    }
   ],
   "source": [
    "i = 24\n",
    "txt = X[i]\n",
    "txt = loaded_tokenizer.texts_to_matrix([txt], mode='tfidf')\n",
    "pred = model.predict_classes(txt)\n",
    "print(X[i], 'Real class is:', Y[i])\n",
    "print(X[i], 'predicted as class', pred)\n",
    "print('lables :', lables.loc[lables['y_id']==pred[0]])"
   ]
  },
  {
   "cell_type": "code",
   "execution_count": 10,
   "metadata": {},
   "outputs": [],
   "source": [
    "import pandas as pd\n",
    "txt = pd.read_csv('C://Users/Jingz/OneDrive/CarrierGene/2019.07.10-HPO (done)/NLP_for_onedrive/In_Database_cn/txt.csv', encoding=\"ANSI\")"
   ]
  },
  {
   "cell_type": "code",
   "execution_count": 13,
   "metadata": {},
   "outputs": [
    {
     "ename": "NameError",
     "evalue": "name 'X' is not defined",
     "output_type": "error",
     "traceback": [
      "\u001b[1;31m---------------------------------------------------------------------------\u001b[0m",
      "\u001b[1;31mNameError\u001b[0m                                 Traceback (most recent call last)",
      "\u001b[1;32m<ipython-input-13-ac9a54d32c55>\u001b[0m in \u001b[0;36m<module>\u001b[1;34m\u001b[0m\n\u001b[1;32m----> 1\u001b[1;33m \u001b[0mX\u001b[0m\u001b[1;33m[\u001b[0m\u001b[0mi\u001b[0m\u001b[1;33m]\u001b[0m\u001b[1;33m\u001b[0m\u001b[1;33m\u001b[0m\u001b[0m\n\u001b[0m",
      "\u001b[1;31mNameError\u001b[0m: name 'X' is not defined"
     ]
    }
   ],
   "source": [
    "X[i]"
   ]
  }
 ],
 "metadata": {
  "kernelspec": {
   "display_name": "Python 3",
   "language": "python",
   "name": "python3"
  },
  "language_info": {
   "codemirror_mode": {
    "name": "ipython",
    "version": 3
   },
   "file_extension": ".py",
   "mimetype": "text/x-python",
   "name": "python",
   "nbconvert_exporter": "python",
   "pygments_lexer": "ipython3",
   "version": "3.8.3"
  }
 },
 "nbformat": 4,
 "nbformat_minor": 4
}
